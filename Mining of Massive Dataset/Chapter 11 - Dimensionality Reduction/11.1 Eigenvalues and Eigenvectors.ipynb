{
 "cells": [
  {
   "cell_type": "code",
   "execution_count": 1,
   "metadata": {
    "collapsed": false
   },
   "outputs": [],
   "source": [
    "import sympy as sy\n",
    "from sympy import solve_linear_system\n",
    "from sympy.matrices import Matrix, eye, zeros\n",
    "import numpy as np\n",
    "import matplotlib"
   ]
  },
  {
   "cell_type": "code",
   "execution_count": 2,
   "metadata": {
    "collapsed": false
   },
   "outputs": [],
   "source": [
    "sy.init_printing(use_latex='mathjax')"
   ]
  },
  {
   "cell_type": "markdown",
   "metadata": {},
   "source": [
    "**Exercise 11.1.1**: Find the unit vector in the same direction as the vector [1, 2, 3]"
   ]
  },
  {
   "cell_type": "code",
   "execution_count": 3,
   "metadata": {
    "collapsed": false
   },
   "outputs": [],
   "source": [
    "a_vec = Matrix([1,2,3])"
   ]
  },
  {
   "cell_type": "code",
   "execution_count": 4,
   "metadata": {
    "collapsed": false
   },
   "outputs": [],
   "source": [
    "a_vec_norm = a_vec.norm(2)"
   ]
  },
  {
   "cell_type": "code",
   "execution_count": 5,
   "metadata": {
    "collapsed": false
   },
   "outputs": [],
   "source": [
    "u = a_vec/a_vec_norm"
   ]
  },
  {
   "cell_type": "markdown",
   "metadata": {},
   "source": [
    "Checking if it is really a unit vector, $u^T\\cdot u$"
   ]
  },
  {
   "cell_type": "code",
   "execution_count": 6,
   "metadata": {
    "collapsed": false
   },
   "outputs": [
    {
     "data": {
      "text/latex": [
       "$$\\left[\\begin{matrix}1\\end{matrix}\\right]$$"
      ],
      "text/plain": [
       "[1]"
      ]
     },
     "execution_count": 6,
     "metadata": {},
     "output_type": "execute_result"
    }
   ],
   "source": [
    "u.transpose()*u"
   ]
  },
  {
   "cell_type": "markdown",
   "metadata": {},
   "source": [
    "**Exercise 11.1.2**: Complete Example 11.4 by computing the principal eigen- vector of the matrix that was constructed in this example. How close to the correct solution (from Example 11.2) are you?"
   ]
  },
  {
   "cell_type": "code",
   "execution_count": 7,
   "metadata": {
    "collapsed": false
   },
   "outputs": [],
   "source": [
    "def power_iteration(M, x, delta, verbose=False):\n",
    "    x_a = x\n",
    "    iteration = 0\n",
    "    while True:\n",
    "        Mx = M*x_a\n",
    "        x_b = Mx / (Mx).norm(2)\n",
    "        iteration += 1\n",
    "        if (x_a - x_b).norm(2) <= delta:\n",
    "            break\n",
    "        x_a = x_b\n",
    "        \n",
    "    l = x_b.transpose() * M * x_b\n",
    "    return x_b.evalf(), l.evalf()[0]"
   ]
  },
  {
   "cell_type": "code",
   "execution_count": 8,
   "metadata": {
    "collapsed": false
   },
   "outputs": [],
   "source": [
    "M = Matrix([[3,2],[2,6]])\n",
    "x = Matrix([1,1])\n",
    "eigvec1, eigval1 = power_iteration(M, x, 0.00001)"
   ]
  },
  {
   "cell_type": "code",
   "execution_count": 9,
   "metadata": {
    "collapsed": false
   },
   "outputs": [
    {
     "data": {
      "text/latex": [
       "$$\\left[\\begin{matrix}0.447214676294553\\\\0.894426650601802\\end{matrix}\\right]$$"
      ],
      "text/plain": [
       "⎡0.447214676294553⎤\n",
       "⎢                 ⎥\n",
       "⎣0.894426650601802⎦"
      ]
     },
     "execution_count": 9,
     "metadata": {},
     "output_type": "execute_result"
    }
   ],
   "source": [
    "eigvec1"
   ]
  },
  {
   "cell_type": "code",
   "execution_count": 10,
   "metadata": {
    "collapsed": false
   },
   "outputs": [
    {
     "data": {
      "text/latex": [
       "$$6.9999999999927$$"
      ],
      "text/plain": [
       "6.99999999999270"
      ]
     },
     "execution_count": 10,
     "metadata": {},
     "output_type": "execute_result"
    }
   ],
   "source": [
    "eigval1"
   ]
  },
  {
   "cell_type": "markdown",
   "metadata": {},
   "source": [
    "For the subsequent eigenpairs, start over with $M∗ = M − \\lambda xx^T$"
   ]
  },
  {
   "cell_type": "code",
   "execution_count": 11,
   "metadata": {
    "collapsed": false
   },
   "outputs": [],
   "source": [
    "M2 = M - eigval1 * eigvec1 * eigvec1.transpose()"
   ]
  },
  {
   "cell_type": "code",
   "execution_count": 12,
   "metadata": {
    "collapsed": false
   },
   "outputs": [],
   "source": [
    "eigvec2, eigval2 = power_iteration(M2, x, 0.00001)"
   ]
  },
  {
   "cell_type": "code",
   "execution_count": 13,
   "metadata": {
    "collapsed": false
   },
   "outputs": [
    {
     "data": {
      "text/latex": [
       "$$\\left[\\begin{matrix}0.894425299600804\\\\-0.447217378278183\\end{matrix}\\right]$$"
      ],
      "text/plain": [
       "⎡0.894425299600804 ⎤\n",
       "⎢                  ⎥\n",
       "⎣-0.447217378278183⎦"
      ]
     },
     "execution_count": 13,
     "metadata": {},
     "output_type": "execute_result"
    }
   ],
   "source": [
    "eigvec2"
   ]
  },
  {
   "cell_type": "code",
   "execution_count": 14,
   "metadata": {
    "collapsed": false
   },
   "outputs": [
    {
     "data": {
      "text/latex": [
       "$$2.00000000002555$$"
      ],
      "text/plain": [
       "2.00000000002555"
      ]
     },
     "execution_count": 14,
     "metadata": {},
     "output_type": "execute_result"
    }
   ],
   "source": [
    "eigval2"
   ]
  },
  {
   "cell_type": "markdown",
   "metadata": {},
   "source": [
    "**Exercise 11.1.3** For any symetric 3x3 matrix, there is a cubic equation in $\\lambda$ that says the determinant of this matrix is 0. In terms of *a* through *f*, find this equation."
   ]
  },
  {
   "cell_type": "code",
   "execution_count": 15,
   "metadata": {
    "collapsed": false
   },
   "outputs": [],
   "source": [
    "l = sy.Symbol('lambda', real=True)\n",
    "a, b, c, d, e, f = sy.symbols('a:f', real=True)"
   ]
  },
  {
   "cell_type": "code",
   "execution_count": 16,
   "metadata": {
    "collapsed": false
   },
   "outputs": [],
   "source": [
    "symetric_matrix = Matrix([[a-l, b, c],[b, d-l, e],[c, e, f-l]])"
   ]
  },
  {
   "cell_type": "code",
   "execution_count": 17,
   "metadata": {
    "collapsed": false
   },
   "outputs": [
    {
     "data": {
      "text/latex": [
       "$$\\left[\\begin{matrix}a - \\lambda & b & c\\\\b & d - \\lambda & e\\\\c & e & f - \\lambda\\end{matrix}\\right]$$"
      ],
      "text/plain": [
       "⎡a - λ    b      c  ⎤\n",
       "⎢                   ⎥\n",
       "⎢  b    d - λ    e  ⎥\n",
       "⎢                   ⎥\n",
       "⎣  c      e    f - λ⎦"
      ]
     },
     "execution_count": 17,
     "metadata": {},
     "output_type": "execute_result"
    }
   ],
   "source": [
    "symetric_matrix"
   ]
  },
  {
   "cell_type": "code",
   "execution_count": 18,
   "metadata": {
    "collapsed": false
   },
   "outputs": [
    {
     "data": {
      "text/latex": [
       "$$a d f - a d \\lambda - a e^{2} - a f \\lambda + a \\lambda^{2} - b^{2} f + b^{2} \\lambda + 2 b c e - c^{2} d + c^{2} \\lambda - d f \\lambda + d \\lambda^{2} + e^{2} \\lambda + f \\lambda^{2} - \\lambda^{3}$$"
      ],
      "text/plain": [
       "                   2              2    2      2                2      2       \n",
       "a⋅d⋅f - a⋅d⋅λ - a⋅e  - a⋅f⋅λ + a⋅λ  - b ⋅f + b ⋅λ + 2⋅b⋅c⋅e - c ⋅d + c ⋅λ - d⋅\n",
       "\n",
       "         2    2        2    3\n",
       "f⋅λ + d⋅λ  + e ⋅λ + f⋅λ  - λ "
      ]
     },
     "execution_count": 18,
     "metadata": {},
     "output_type": "execute_result"
    }
   ],
   "source": [
    "symetric_matrix.det()"
   ]
  },
  {
   "cell_type": "markdown",
   "metadata": {},
   "source": [
    "**Exercise 11.1.4** : Find the eigenpairs for the following matrix"
   ]
  },
  {
   "cell_type": "code",
   "execution_count": 19,
   "metadata": {
    "collapsed": false
   },
   "outputs": [],
   "source": [
    "l = sy.Symbol('lambda', real=True)\n",
    "x, y, z = sy.symbols('x:z', real=True)"
   ]
  },
  {
   "cell_type": "code",
   "execution_count": 20,
   "metadata": {
    "collapsed": false
   },
   "outputs": [],
   "source": [
    "def lambda_(i, j):\n",
    "    if i == j:\n",
    "        return l\n",
    "    return 0"
   ]
  },
  {
   "cell_type": "code",
   "execution_count": 21,
   "metadata": {
    "collapsed": false
   },
   "outputs": [
    {
     "data": {
      "text/latex": [
       "$$\\left[\\begin{matrix}1 & 1 & 1\\\\1 & 2 & 3\\\\1 & 3 & 5\\end{matrix}\\right]$$"
      ],
      "text/plain": [
       "⎡1  1  1⎤\n",
       "⎢       ⎥\n",
       "⎢1  2  3⎥\n",
       "⎢       ⎥\n",
       "⎣1  3  5⎦"
      ]
     },
     "execution_count": 21,
     "metadata": {},
     "output_type": "execute_result"
    }
   ],
   "source": [
    "matrix_11_1_4 = Matrix([[1, 1, 1],[1, 2, 3],[1, 3, 5]])\n",
    "matrix_11_1_4"
   ]
  },
  {
   "cell_type": "markdown",
   "metadata": {},
   "source": [
    "Trouvons les eigenvalues avec le $det(M) = 0$"
   ]
  },
  {
   "cell_type": "code",
   "execution_count": 22,
   "metadata": {
    "collapsed": false
   },
   "outputs": [
    {
     "data": {
      "text/latex": [
       "$$\\left[\\begin{matrix}- \\lambda + 1 & 1 & 1\\\\1 & - \\lambda + 2 & 3\\\\1 & 3 & - \\lambda + 5\\end{matrix}\\right]$$"
      ],
      "text/plain": [
       "⎡-λ + 1    1       1   ⎤\n",
       "⎢                      ⎥\n",
       "⎢  1     -λ + 2    3   ⎥\n",
       "⎢                      ⎥\n",
       "⎣  1       3     -λ + 5⎦"
      ]
     },
     "execution_count": 22,
     "metadata": {},
     "output_type": "execute_result"
    }
   ],
   "source": [
    "matrix_11_1_4 - Matrix(3,3,lambda_)"
   ]
  },
  {
   "cell_type": "code",
   "execution_count": 23,
   "metadata": {
    "collapsed": false
   },
   "outputs": [],
   "source": [
    "det = (matrix_11_1_4 - Matrix(3,3,lambda_)).det()"
   ]
  },
  {
   "cell_type": "code",
   "execution_count": 24,
   "metadata": {
    "collapsed": false
   },
   "outputs": [
    {
     "data": {
      "text/latex": [
       "$$\\left [ 0, \\quad - \\sqrt{10} + 4, \\quad \\sqrt{10} + 4\\right ]$$"
      ],
      "text/plain": [
       "⎡       ____        ____    ⎤\n",
       "⎣0, - ╲╱ 10  + 4, ╲╱ 10  + 4⎦"
      ]
     },
     "execution_count": 24,
     "metadata": {},
     "output_type": "execute_result"
    }
   ],
   "source": [
    "eigenvalues_11_1_4 = sy.solve(det, l)\n",
    "eigenvalues_11_1_4"
   ]
  },
  {
   "cell_type": "code",
   "execution_count": 25,
   "metadata": {
    "collapsed": false
   },
   "outputs": [],
   "source": [
    "l1, l2, l3 = eigenvalues_11_1_4"
   ]
  },
  {
   "cell_type": "code",
   "execution_count": 26,
   "metadata": {
    "collapsed": false
   },
   "outputs": [
    {
     "data": {
      "text/latex": [
       "$$\\left[\\begin{matrix}-3 + \\sqrt{10} & 1 & 1 & 0\\\\1 & -2 + \\sqrt{10} & 3 & 0\\\\1 & 3 & 1 + \\sqrt{10} & 0\\end{matrix}\\right]$$"
      ],
      "text/plain": [
       "⎡       ____                            ⎤\n",
       "⎢-3 + ╲╱ 10        1           1       0⎥\n",
       "⎢                                       ⎥\n",
       "⎢                    ____               ⎥\n",
       "⎢     1       -2 + ╲╱ 10       3       0⎥\n",
       "⎢                                       ⎥\n",
       "⎢                                ____   ⎥\n",
       "⎣     1            3       1 + ╲╱ 10   0⎦"
      ]
     },
     "execution_count": 26,
     "metadata": {},
     "output_type": "execute_result"
    }
   ],
   "source": [
    "(matrix_11_1_4-l2*eye(3)).row_join(Matrix(3,1,[0,0,0]))"
   ]
  },
  {
   "cell_type": "markdown",
   "metadata": {},
   "source": [
    "First eigenpair"
   ]
  },
  {
   "cell_type": "code",
   "execution_count": 27,
   "metadata": {
    "collapsed": false
   },
   "outputs": [
    {
     "data": {
      "text/latex": [
       "$$\\left \\{ x : z, \\quad y : - 2 z\\right \\}$$"
      ],
      "text/plain": [
       "{x: z, y: -2⋅z}"
      ]
     },
     "execution_count": 27,
     "metadata": {},
     "output_type": "execute_result"
    }
   ],
   "source": [
    "Identity = eye(3)\n",
    "lin_sys = solve_linear_system((matrix_11_1_4-l1*Identity).row_join(Matrix(3,1,[0,0,0])), x, y, z)\n",
    "lin_sys"
   ]
  },
  {
   "cell_type": "code",
   "execution_count": 28,
   "metadata": {
    "collapsed": false
   },
   "outputs": [
    {
     "data": {
      "text/latex": [
       "$$\\left[\\begin{matrix}1\\\\-2\\\\1\\end{matrix}\\right]$$"
      ],
      "text/plain": [
       "⎡1 ⎤\n",
       "⎢  ⎥\n",
       "⎢-2⎥\n",
       "⎢  ⎥\n",
       "⎣1 ⎦"
      ]
     },
     "execution_count": 28,
     "metadata": {},
     "output_type": "execute_result"
    }
   ],
   "source": [
    "e1 = Matrix([lin_sys[x].subs(z,1), lin_sys[y].subs(z,1), 1])\n",
    "e1"
   ]
  },
  {
   "cell_type": "markdown",
   "metadata": {},
   "source": [
    "Second Eigenvector"
   ]
  },
  {
   "cell_type": "code",
   "execution_count": 29,
   "metadata": {
    "collapsed": false
   },
   "outputs": [
    {
     "data": {
      "text/latex": [
       "$$\\left \\{ x : - \\frac{2 z}{5} \\sqrt{10} - z, \\quad y : - \\frac{\\sqrt{10} z}{5}\\right \\}$$"
      ],
      "text/plain": [
       "⎧         ____              ____   ⎫\n",
       "⎪     2⋅╲╱ 10 ⋅z         -╲╱ 10 ⋅z ⎪\n",
       "⎨x: - ────────── - z, y: ──────────⎬\n",
       "⎪         5                  5     ⎪\n",
       "⎩                                  ⎭"
      ]
     },
     "execution_count": 29,
     "metadata": {},
     "output_type": "execute_result"
    }
   ],
   "source": [
    "Identity = eye(3)\n",
    "lin_sys = solve_linear_system((matrix_11_1_4-l2*Identity).row_join(Matrix(3,1,[0,0,0])), x, y, z)\n",
    "lin_sys"
   ]
  },
  {
   "cell_type": "code",
   "execution_count": 30,
   "metadata": {
    "collapsed": false
   },
   "outputs": [
    {
     "data": {
      "text/latex": [
       "$$\\left[\\begin{matrix}- \\frac{2 \\sqrt{10}}{5} - 1\\\\- \\frac{\\sqrt{10}}{5}\\\\1\\end{matrix}\\right]$$"
      ],
      "text/plain": [
       "⎡      ____    ⎤\n",
       "⎢  2⋅╲╱ 10     ⎥\n",
       "⎢- ──────── - 1⎥\n",
       "⎢     5        ⎥\n",
       "⎢              ⎥\n",
       "⎢      ____    ⎥\n",
       "⎢   -╲╱ 10     ⎥\n",
       "⎢   ────────   ⎥\n",
       "⎢      5       ⎥\n",
       "⎢              ⎥\n",
       "⎣      1       ⎦"
      ]
     },
     "execution_count": 30,
     "metadata": {},
     "output_type": "execute_result"
    }
   ],
   "source": [
    "e2 = Matrix([lin_sys[x].subs(z,1), lin_sys[y].subs(z,1), 1])\n",
    "e2"
   ]
  },
  {
   "cell_type": "markdown",
   "metadata": {},
   "source": [
    "Third Eigenvector"
   ]
  },
  {
   "cell_type": "code",
   "execution_count": 31,
   "metadata": {
    "collapsed": false
   },
   "outputs": [
    {
     "data": {
      "text/latex": [
       "$$\\left \\{ x : - z + \\frac{2 z}{5} \\sqrt{10}, \\quad y : \\frac{\\sqrt{10} z}{5}\\right \\}$$"
      ],
      "text/plain": [
       "⎧            ____         ____  ⎫\n",
       "⎪        2⋅╲╱ 10 ⋅z     ╲╱ 10 ⋅z⎪\n",
       "⎨x: -z + ──────────, y: ────────⎬\n",
       "⎪            5             5    ⎪\n",
       "⎩                               ⎭"
      ]
     },
     "execution_count": 31,
     "metadata": {},
     "output_type": "execute_result"
    }
   ],
   "source": [
    "Identity = eye(3)\n",
    "lin_sys = solve_linear_system((matrix_11_1_4-l3*Identity).row_join(Matrix(3,1,[0,0,0])), x, y, z)\n",
    "lin_sys"
   ]
  },
  {
   "cell_type": "code",
   "execution_count": 32,
   "metadata": {
    "collapsed": false
   },
   "outputs": [
    {
     "data": {
      "text/latex": [
       "$$\\left[\\begin{matrix}-1 + \\frac{2 \\sqrt{10}}{5}\\\\\\frac{\\sqrt{10}}{5}\\\\1\\end{matrix}\\right]$$"
      ],
      "text/plain": [
       "⎡         ____⎤\n",
       "⎢     2⋅╲╱ 10 ⎥\n",
       "⎢-1 + ────────⎥\n",
       "⎢        5    ⎥\n",
       "⎢             ⎥\n",
       "⎢     ____    ⎥\n",
       "⎢   ╲╱ 10     ⎥\n",
       "⎢   ──────    ⎥\n",
       "⎢     5       ⎥\n",
       "⎢             ⎥\n",
       "⎣      1      ⎦"
      ]
     },
     "execution_count": 32,
     "metadata": {},
     "output_type": "execute_result"
    }
   ],
   "source": [
    "e3 = Matrix([lin_sys[x].subs(z,1), lin_sys[y].subs(z,1), 1])\n",
    "e3"
   ]
  },
  {
   "cell_type": "markdown",
   "metadata": {},
   "source": [
    "Let's use sympy's builtin functions for finding the eigenvectors and check if our answers are correct"
   ]
  },
  {
   "cell_type": "code",
   "execution_count": 33,
   "metadata": {
    "collapsed": false
   },
   "outputs": [
    {
     "data": {
      "text/latex": [
       "$$\\left [ \\left ( 0, \\quad 1, \\quad \\left [ \\left[\\begin{matrix}1\\\\-2\\\\1\\end{matrix}\\right]\\right ]\\right ), \\quad \\left ( - \\sqrt{10} + 4, \\quad 1, \\quad \\left [ \\left[\\begin{matrix}- \\frac{1}{-3 + \\sqrt{10}} + \\frac{1}{-3 + \\sqrt{10}} \\left(- \\frac{3}{5} + \\frac{1}{-15 + 5 \\sqrt{10}}\\right)\\\\- \\frac{1}{-15 + 5 \\sqrt{10}} + \\frac{3}{5}\\\\1\\end{matrix}\\right]\\right ]\\right ), \\quad \\left ( \\sqrt{10} + 4, \\quad 1, \\quad \\left [ \\left[\\begin{matrix}\\frac{- \\frac{3}{5} + \\frac{1}{- 5 \\sqrt{10} - 15}}{- \\sqrt{10} - 3} - \\frac{1}{- \\sqrt{10} - 3}\\\\- \\frac{1}{- 5 \\sqrt{10} - 15} + \\frac{3}{5}\\\\1\\end{matrix}\\right]\\right ]\\right )\\right ]$$"
      ],
      "text/plain": [
       "⎡                ⎛                 ⎡⎡                  3          1       ⎤⎤⎞ \n",
       "⎢                ⎜                 ⎢⎢                - ─ + ───────────────⎥⎥⎟ \n",
       "⎢                ⎜                 ⎢⎢                  5     ⎛       ____⎞⎥⎥⎟ \n",
       "⎢                ⎜    ____         ⎢⎢       1              5⋅⎝-3 + ╲╱ 10 ⎠⎥⎥⎟ \n",
       "⎢⎛0, 1, ⎡⎡1 ⎤⎤⎞, ⎜- ╲╱ 10  + 4, 1, ⎢⎢- ─────────── + ─────────────────────⎥⎥⎟,\n",
       "⎢⎜      ⎢⎢  ⎥⎥⎟  ⎜                 ⎢⎢         ____               ____     ⎥⎥⎟ \n",
       "⎢⎜      ⎢⎢-2⎥⎥⎟  ⎜                 ⎢⎢  -3 + ╲╱ 10         -3 + ╲╱ 10      ⎥⎥⎟ \n",
       "⎢⎜      ⎢⎢  ⎥⎥⎟  ⎜                 ⎢⎢                                     ⎥⎥⎟ \n",
       "⎢⎝      ⎣⎣1 ⎦⎦⎠  ⎜                 ⎢⎢                 1          3        ⎥⎥⎟ \n",
       "⎢                ⎜                 ⎢⎢        - ─────────────── + ─        ⎥⎥⎟ \n",
       "⎢                ⎜                 ⎢⎢            ⎛       ____⎞   5        ⎥⎥⎟ \n",
       "⎢                ⎜                 ⎢⎢          5⋅⎝-3 + ╲╱ 10 ⎠            ⎥⎥⎟ \n",
       "⎢                ⎜                 ⎢⎢                                     ⎥⎥⎟ \n",
       "⎣                ⎝                 ⎣⎣                  1                  ⎦⎦⎠ \n",
       "\n",
       " ⎛               ⎡⎡  3          1                       ⎤⎤⎞⎤\n",
       " ⎜               ⎢⎢- ─ + ────────────────               ⎥⎥⎟⎥\n",
       " ⎜               ⎢⎢  5     ⎛    ____    ⎞               ⎥⎥⎟⎥\n",
       " ⎜  ____         ⎢⎢      5⋅⎝- ╲╱ 10  - 3⎠        1      ⎥⎥⎟⎥\n",
       " ⎜╲╱ 10  + 4, 1, ⎢⎢────────────────────── - ────────────⎥⎥⎟⎥\n",
       " ⎜               ⎢⎢         ____                ____    ⎥⎥⎟⎥\n",
       " ⎜               ⎢⎢     - ╲╱ 10  - 3        - ╲╱ 10  - 3⎥⎥⎟⎥\n",
       " ⎜               ⎢⎢                                     ⎥⎥⎟⎥\n",
       " ⎜               ⎢⎢                1           3        ⎥⎥⎟⎥\n",
       " ⎜               ⎢⎢       - ──────────────── + ─        ⎥⎥⎟⎥\n",
       " ⎜               ⎢⎢           ⎛    ____    ⎞   5        ⎥⎥⎟⎥\n",
       " ⎜               ⎢⎢         5⋅⎝- ╲╱ 10  - 3⎠            ⎥⎥⎟⎥\n",
       " ⎜               ⎢⎢                                     ⎥⎥⎟⎥\n",
       " ⎝               ⎣⎣                  1                  ⎦⎦⎠⎦"
      ]
     },
     "execution_count": 33,
     "metadata": {},
     "output_type": "execute_result"
    }
   ],
   "source": [
    "matrix_11_1_4.eigenvects() #(eigenval, multiplicity, basis)"
   ]
  },
  {
   "cell_type": "code",
   "execution_count": 34,
   "metadata": {
    "collapsed": false
   },
   "outputs": [
    {
     "data": {
      "text/plain": [
       "True"
      ]
     },
     "execution_count": 34,
     "metadata": {},
     "output_type": "execute_result"
    }
   ],
   "source": [
    "matrix_11_1_4.eigenvects()[0][2][0].evalf() == e1.evalf()"
   ]
  },
  {
   "cell_type": "code",
   "execution_count": 35,
   "metadata": {
    "collapsed": false
   },
   "outputs": [
    {
     "data": {
      "text/plain": [
       "True"
      ]
     },
     "execution_count": 35,
     "metadata": {},
     "output_type": "execute_result"
    }
   ],
   "source": [
    "matrix_11_1_4.eigenvects()[1][2][0].evalf() == e2.evalf()"
   ]
  },
  {
   "cell_type": "code",
   "execution_count": 36,
   "metadata": {
    "collapsed": false
   },
   "outputs": [
    {
     "data": {
      "text/plain": [
       "True"
      ]
     },
     "execution_count": 36,
     "metadata": {},
     "output_type": "execute_result"
    }
   ],
   "source": [
    "matrix_11_1_4.eigenvects()[2][2][0].evalf() == e3.evalf()"
   ]
  },
  {
   "cell_type": "markdown",
   "metadata": {},
   "source": [
    "**Exercise 11.1.5** : Find the eigenpairs for the following matrix"
   ]
  },
  {
   "cell_type": "code",
   "execution_count": 37,
   "metadata": {
    "collapsed": false
   },
   "outputs": [
    {
     "data": {
      "text/latex": [
       "$$\\left[\\begin{matrix}1 & 1 & 1\\\\1 & 2 & 3\\\\1 & 3 & 6\\end{matrix}\\right]$$"
      ],
      "text/plain": [
       "⎡1  1  1⎤\n",
       "⎢       ⎥\n",
       "⎢1  2  3⎥\n",
       "⎢       ⎥\n",
       "⎣1  3  6⎦"
      ]
     },
     "execution_count": 37,
     "metadata": {},
     "output_type": "execute_result"
    }
   ],
   "source": [
    "# Practically the same thing as in 11.1.4\n",
    "matrix_11_1_5 = Matrix([[1, 1, 1],[1, 2, 3],[1, 3, 6]])\n",
    "matrix_11_1_5"
   ]
  },
  {
   "cell_type": "markdown",
   "metadata": {},
   "source": [
    "No need to do it by hand, we did it in 11.1.4"
   ]
  },
  {
   "cell_type": "code",
   "execution_count": 38,
   "metadata": {
    "collapsed": false
   },
   "outputs": [
    {
     "data": {
      "text/latex": [
       "$$\\left [ \\left ( 1, \\quad 1, \\quad \\left [ \\left[\\begin{matrix}-2\\\\-1\\\\1\\end{matrix}\\right]\\right ]\\right ), \\quad \\left ( - \\sqrt{15} + 4, \\quad 1, \\quad \\left [ \\left[\\begin{matrix}- \\frac{1}{-3 + \\sqrt{15}} + \\frac{- \\frac{1}{-3 + \\sqrt{15}} + 3}{\\left(-3 + \\sqrt{15}\\right) \\left(- \\frac{5}{2} + \\frac{5 \\sqrt{15}}{6}\\right)}\\\\- \\frac{- \\frac{1}{-3 + \\sqrt{15}} + 3}{- \\frac{5}{2} + \\frac{5 \\sqrt{15}}{6}}\\\\1\\end{matrix}\\right]\\right ]\\right ), \\quad \\left ( \\sqrt{15} + 4, \\quad 1, \\quad \\left [ \\left[\\begin{matrix}\\frac{- \\frac{1}{- \\sqrt{15} - 3} + 3}{\\left(- \\sqrt{15} - 3\\right) \\left(- \\frac{5 \\sqrt{15}}{6} - \\frac{5}{2}\\right)} - \\frac{1}{- \\sqrt{15} - 3}\\\\- \\frac{- \\frac{1}{- \\sqrt{15} - 3} + 3}{- \\frac{5 \\sqrt{15}}{6} - \\frac{5}{2}}\\\\1\\end{matrix}\\right]\\right ]\\right )\\right ]$$"
      ],
      "text/plain": [
       "⎡                ⎛                 ⎡⎡                             1           \n",
       "⎢                ⎜                 ⎢⎢                      - ─────────── + 3  \n",
       "⎢                ⎜                 ⎢⎢                               ____      \n",
       "⎢                ⎜    ____         ⎢⎢       1                -3 + ╲╱ 15       \n",
       "⎢⎛1, 1, ⎡⎡-2⎤⎤⎞, ⎜- ╲╱ 15  + 4, 1, ⎢⎢- ─────────── + ─────────────────────────\n",
       "⎢⎜      ⎢⎢  ⎥⎥⎟  ⎜                 ⎢⎢         ____                 ⎛          \n",
       "⎢⎜      ⎢⎢-1⎥⎥⎟  ⎜                 ⎢⎢  -3 + ╲╱ 15    ⎛       ____⎞ ⎜  5   5⋅╲╱\n",
       "⎢⎜      ⎢⎢  ⎥⎥⎟  ⎜                 ⎢⎢                ⎝-3 + ╲╱ 15 ⎠⋅⎜- ─ + ────\n",
       "⎢⎝      ⎣⎣1 ⎦⎦⎠  ⎜                 ⎢⎢                              ⎝  2      6\n",
       "⎢                ⎜                 ⎢⎢                                         \n",
       "⎢                ⎜                 ⎢⎢             ⎛       1         ⎞         \n",
       "⎢                ⎜                 ⎢⎢            -⎜- ─────────── + 3⎟         \n",
       "⎢                ⎜                 ⎢⎢             ⎜         ____    ⎟         \n",
       "⎢                ⎜                 ⎢⎢             ⎝  -3 + ╲╱ 15     ⎠         \n",
       "⎢                ⎜                 ⎢⎢            ─────────────────────        \n",
       "⎢                ⎜                 ⎢⎢                          ____           \n",
       "⎢                ⎜                 ⎢⎢                  5   5⋅╲╱ 15            \n",
       "⎢                ⎜                 ⎢⎢                - ─ + ────────           \n",
       "⎢                ⎜                 ⎢⎢                  2      6               \n",
       "⎢                ⎜                 ⎢⎢                                         \n",
       "⎣                ⎝                 ⎣⎣                      1                  \n",
       "\n",
       "     ⎤⎤⎞  ⎛               ⎡⎡              1                               ⎤⎤⎞⎤\n",
       "     ⎥⎥⎟  ⎜               ⎢⎢       - ──────────── + 3                     ⎥⎥⎟⎥\n",
       "     ⎥⎥⎟  ⎜               ⎢⎢             ____                             ⎥⎥⎟⎥\n",
       "     ⎥⎥⎟  ⎜  ____         ⎢⎢         - ╲╱ 15  - 3                  1      ⎥⎥⎟⎥\n",
       "─────⎥⎥⎟, ⎜╲╱ 15  + 4, 1, ⎢⎢─────────────────────────────── - ────────────⎥⎥⎟⎥\n",
       "____⎞⎥⎥⎟  ⎜               ⎢⎢               ⎛      ____    ⎞       ____    ⎥⎥⎟⎥\n",
       " 15 ⎟⎥⎥⎟  ⎜               ⎢⎢⎛    ____    ⎞ ⎜  5⋅╲╱ 15    5⎟   - ╲╱ 15  - 3⎥⎥⎟⎥\n",
       "────⎟⎥⎥⎟  ⎜               ⎢⎢⎝- ╲╱ 15  - 3⎠⋅⎜- ──────── - ─⎟               ⎥⎥⎟⎥\n",
       "    ⎠⎥⎥⎟  ⎜               ⎢⎢               ⎝     6       2⎠               ⎥⎥⎟⎥\n",
       "     ⎥⎥⎟  ⎜               ⎢⎢                                              ⎥⎥⎟⎥\n",
       "     ⎥⎥⎟  ⎜               ⎢⎢             ⎛       1          ⎞             ⎥⎥⎟⎥\n",
       "     ⎥⎥⎟  ⎜               ⎢⎢            -⎜- ──────────── + 3⎟             ⎥⎥⎟⎥\n",
       "     ⎥⎥⎟  ⎜               ⎢⎢             ⎜      ____        ⎟             ⎥⎥⎟⎥\n",
       "     ⎥⎥⎟  ⎜               ⎢⎢             ⎝  - ╲╱ 15  - 3    ⎠             ⎥⎥⎟⎥\n",
       "     ⎥⎥⎟  ⎜               ⎢⎢            ──────────────────────            ⎥⎥⎟⎥\n",
       "     ⎥⎥⎟  ⎜               ⎢⎢                      ____                    ⎥⎥⎟⎥\n",
       "     ⎥⎥⎟  ⎜               ⎢⎢                  5⋅╲╱ 15    5                ⎥⎥⎟⎥\n",
       "     ⎥⎥⎟  ⎜               ⎢⎢                - ──────── - ─                ⎥⎥⎟⎥\n",
       "     ⎥⎥⎟  ⎜               ⎢⎢                     6       2                ⎥⎥⎟⎥\n",
       "     ⎥⎥⎟  ⎜               ⎢⎢                                              ⎥⎥⎟⎥\n",
       "     ⎦⎦⎠  ⎝               ⎣⎣                      1                       ⎦⎦⎠⎦"
      ]
     },
     "execution_count": 38,
     "metadata": {},
     "output_type": "execute_result"
    }
   ],
   "source": [
    "matrix_11_1_5.eigenvects()"
   ]
  },
  {
   "cell_type": "code",
   "execution_count": 39,
   "metadata": {
    "collapsed": false
   },
   "outputs": [
    {
     "data": {
      "text/latex": [
       "$$\\left[\\begin{matrix}-2.0\\\\-1.0\\\\1.0\\end{matrix}\\right]$$"
      ],
      "text/plain": [
       "⎡-2.0⎤\n",
       "⎢    ⎥\n",
       "⎢-1.0⎥\n",
       "⎢    ⎥\n",
       "⎣1.0 ⎦"
      ]
     },
     "execution_count": 39,
     "metadata": {},
     "output_type": "execute_result"
    }
   ],
   "source": [
    "matrix_11_1_5.eigenvects()[0][2][0].evalf()"
   ]
  },
  {
   "cell_type": "code",
   "execution_count": 40,
   "metadata": {
    "collapsed": false
   },
   "outputs": [
    {
     "data": {
      "text/latex": [
       "$$\\left[\\begin{matrix}1.77459666924148\\\\-2.54919333848297\\\\1.0\\end{matrix}\\right]$$"
      ],
      "text/plain": [
       "⎡1.77459666924148 ⎤\n",
       "⎢                 ⎥\n",
       "⎢-2.54919333848297⎥\n",
       "⎢                 ⎥\n",
       "⎣       1.0       ⎦"
      ]
     },
     "execution_count": 40,
     "metadata": {},
     "output_type": "execute_result"
    }
   ],
   "source": [
    "matrix_11_1_5.eigenvects()[1][2][0].evalf()"
   ]
  },
  {
   "cell_type": "code",
   "execution_count": 41,
   "metadata": {
    "collapsed": false
   },
   "outputs": [
    {
     "data": {
      "text/latex": [
       "$$\\left[\\begin{matrix}4.03950773330883\\\\-1.91673780644929\\\\0\\end{matrix}\\right]$$"
      ],
      "text/plain": [
       "⎡4.03950773330883 ⎤\n",
       "⎢                 ⎥\n",
       "⎢-1.91673780644929⎥\n",
       "⎢                 ⎥\n",
       "⎣        0        ⎦"
      ]
     },
     "execution_count": 41,
     "metadata": {},
     "output_type": "execute_result"
    }
   ],
   "source": [
    "matrix_11_1_5.eigenvects()[1][2][0].evalf() - matrix_11_1_4.eigenvects()[1][2][0].evalf()"
   ]
  },
  {
   "cell_type": "code",
   "execution_count": 42,
   "metadata": {
    "collapsed": false
   },
   "outputs": [
    {
     "data": {
      "text/latex": [
       "$$\\left[\\begin{matrix}0.225403330758517\\\\0.549193338482967\\\\1.0\\end{matrix}\\right]$$"
      ],
      "text/plain": [
       "⎡0.225403330758517⎤\n",
       "⎢                 ⎥\n",
       "⎢0.549193338482967⎥\n",
       "⎢                 ⎥\n",
       "⎣       1.0       ⎦"
      ]
     },
     "execution_count": 42,
     "metadata": {},
     "output_type": "execute_result"
    }
   ],
   "source": [
    "matrix_11_1_5.eigenvects()[2][2][0].evalf()"
   ]
  },
  {
   "cell_type": "code",
   "execution_count": 43,
   "metadata": {
    "collapsed": false
   },
   "outputs": [
    {
     "data": {
      "text/latex": [
       "$$\\left[\\begin{matrix}-0.0395077333088351\\\\-0.0832621935507091\\\\0\\end{matrix}\\right]$$"
      ],
      "text/plain": [
       "⎡-0.0395077333088351⎤\n",
       "⎢                   ⎥\n",
       "⎢-0.0832621935507091⎥\n",
       "⎢                   ⎥\n",
       "⎣         0         ⎦"
      ]
     },
     "execution_count": 43,
     "metadata": {},
     "output_type": "execute_result"
    }
   ],
   "source": [
    "matrix_11_1_5.eigenvects()[2][2][0].evalf() - matrix_11_1_4.eigenvects()[2][2][0].evalf()"
   ]
  },
  {
   "cell_type": "markdown",
   "metadata": {},
   "source": [
    "Not sure what the point was to do the same thing with almost the same matrix as 11.1.4. Z is still a free parameter and that's about it"
   ]
  },
  {
   "cell_type": "markdown",
   "metadata": {},
   "source": [
    "**Exercise 11.1.6** : For the matrix of Exercise 11.1.4:\n",
    "<br>(a) Starting with a vector of three 1’s, use power iteration to find an approximate value of the principal eigenvector.\n",
    "<br>(b) Compute an estimate the principal eigenvalue for the matrix.\n",
    "<br>(c) Construct a new matrix by subtracting out the effect of the principal\n",
    "eigenpair, as in Section 11.1.3.\n",
    "<br>(d) From your matrix of (c), find the second eigenpair for the original matrix\n",
    "of Exercise 11.1.4.\n",
    "<br>(e) Repeat (c) and (d) to find the third eigenpair for the original matrix."
   ]
  },
  {
   "cell_type": "markdown",
   "metadata": {},
   "source": [
    "(a) and (b)"
   ]
  },
  {
   "cell_type": "code",
   "execution_count": 44,
   "metadata": {
    "collapsed": false
   },
   "outputs": [],
   "source": [
    "eigenvector, eigenvalue = power_iteration(matrix_11_1_4, Matrix([1,1,1]), 0.0001)"
   ]
  },
  {
   "cell_type": "code",
   "execution_count": 45,
   "metadata": {
    "collapsed": false
   },
   "outputs": [
    {
     "data": {
      "text/latex": [
       "$$\\left[\\begin{matrix}0.218490951356121\\\\0.52161154495074\\\\0.824732138545358\\end{matrix}\\right]$$"
      ],
      "text/plain": [
       "⎡0.218490951356121⎤\n",
       "⎢                 ⎥\n",
       "⎢0.52161154495074 ⎥\n",
       "⎢                 ⎥\n",
       "⎣0.824732138545358⎦"
      ]
     },
     "execution_count": 45,
     "metadata": {},
     "output_type": "execute_result"
    }
   ],
   "source": [
    "eigenvector"
   ]
  },
  {
   "cell_type": "code",
   "execution_count": 46,
   "metadata": {
    "collapsed": false
   },
   "outputs": [
    {
     "data": {
      "text/latex": [
       "$$\\left[\\begin{matrix}0.218481745187912\\\\0.521608974237994\\\\0.824736203288077\\end{matrix}\\right]$$"
      ],
      "text/plain": [
       "⎡0.218481745187912⎤\n",
       "⎢                 ⎥\n",
       "⎢0.521608974237994⎥\n",
       "⎢                 ⎥\n",
       "⎣0.824736203288077⎦"
      ]
     },
     "execution_count": 46,
     "metadata": {},
     "output_type": "execute_result"
    }
   ],
   "source": [
    "(e3/e3.norm(2)).evalf() # The one found at 11.1.4 was not a unit vector"
   ]
  },
  {
   "cell_type": "code",
   "execution_count": 47,
   "metadata": {
    "collapsed": false
   },
   "outputs": [
    {
     "data": {
      "text/latex": [
       "$$7.16227765948606$$"
      ],
      "text/plain": [
       "7.16227765948606"
      ]
     },
     "execution_count": 47,
     "metadata": {},
     "output_type": "execute_result"
    }
   ],
   "source": [
    "eigenvalue"
   ]
  },
  {
   "cell_type": "code",
   "execution_count": 48,
   "metadata": {
    "collapsed": false
   },
   "outputs": [
    {
     "data": {
      "text/latex": [
       "$$7.16227766016838$$"
      ],
      "text/plain": [
       "7.16227766016838"
      ]
     },
     "execution_count": 48,
     "metadata": {},
     "output_type": "execute_result"
    }
   ],
   "source": [
    "l3.evalf()"
   ]
  },
  {
   "cell_type": "markdown",
   "metadata": {},
   "source": [
    "(c)"
   ]
  },
  {
   "cell_type": "code",
   "execution_count": 49,
   "metadata": {
    "collapsed": false
   },
   "outputs": [],
   "source": [
    "M2 = matrix_11_1_4 - eigenvalue * eigenvector * eigenvector.transpose()"
   ]
  },
  {
   "cell_type": "code",
   "execution_count": 50,
   "metadata": {
    "collapsed": false
   },
   "outputs": [
    {
     "data": {
      "text/latex": [
       "$$\\left[\\begin{matrix}0.658085070314227 & 0.183733817770649 & -0.290617434772928\\\\0.183733817770649 & 0.0512974941936166 & -0.0811388293834159\\\\-0.290617434772928 & -0.0811388293834159 & 0.128339776006097\\end{matrix}\\right]$$"
      ],
      "text/plain": [
       "⎡0.658085070314227    0.183733817770649   -0.290617434772928 ⎤\n",
       "⎢                                                            ⎥\n",
       "⎢0.183733817770649   0.0512974941936166   -0.0811388293834159⎥\n",
       "⎢                                                            ⎥\n",
       "⎣-0.290617434772928  -0.0811388293834159   0.128339776006097 ⎦"
      ]
     },
     "execution_count": 50,
     "metadata": {},
     "output_type": "execute_result"
    }
   ],
   "source": [
    "M2"
   ]
  },
  {
   "cell_type": "markdown",
   "metadata": {},
   "source": [
    "(d)"
   ]
  },
  {
   "cell_type": "code",
   "execution_count": 51,
   "metadata": {
    "collapsed": false
   },
   "outputs": [],
   "source": [
    "eigenvector2, eigenvalue2 = power_iteration(M2, Matrix([1,1,1]), 0.0001)"
   ]
  },
  {
   "cell_type": "code",
   "execution_count": 52,
   "metadata": {
    "collapsed": false
   },
   "outputs": [
    {
     "data": {
      "text/latex": [
       "$$\\left[\\begin{matrix}0.886320856738858\\\\0.247456024432011\\\\-0.391408807874837\\end{matrix}\\right]$$"
      ],
      "text/plain": [
       "⎡0.886320856738858 ⎤\n",
       "⎢                  ⎥\n",
       "⎢0.247456024432011 ⎥\n",
       "⎢                  ⎥\n",
       "⎣-0.391408807874837⎦"
      ]
     },
     "execution_count": 52,
     "metadata": {},
     "output_type": "execute_result"
    }
   ],
   "source": [
    "eigenvector2"
   ]
  },
  {
   "cell_type": "code",
   "execution_count": 53,
   "metadata": {
    "collapsed": false
   },
   "outputs": [
    {
     "data": {
      "text/latex": [
       "$$\\left[\\begin{matrix}-0.886340262175299\\\\-0.247502346105488\\\\0.391335569964323\\end{matrix}\\right]$$"
      ],
      "text/plain": [
       "⎡-0.886340262175299⎤\n",
       "⎢                  ⎥\n",
       "⎢-0.247502346105488⎥\n",
       "⎢                  ⎥\n",
       "⎣0.391335569964323 ⎦"
      ]
     },
     "execution_count": 53,
     "metadata": {},
     "output_type": "execute_result"
    }
   ],
   "source": [
    "(e2/e2.norm(2)).evalf() # Pretty much the same this as with the power iteration, but in the other direction"
   ]
  },
  {
   "cell_type": "code",
   "execution_count": 54,
   "metadata": {
    "collapsed": false
   },
   "outputs": [
    {
     "data": {
      "text/latex": [
       "$$0.837722345665253$$"
      ],
      "text/plain": [
       "0.837722345665253"
      ]
     },
     "execution_count": 54,
     "metadata": {},
     "output_type": "execute_result"
    }
   ],
   "source": [
    "eigenvalue2"
   ]
  },
  {
   "cell_type": "code",
   "execution_count": 55,
   "metadata": {
    "collapsed": false
   },
   "outputs": [
    {
     "data": {
      "text/latex": [
       "$$0.837722339831621$$"
      ],
      "text/plain": [
       "0.837722339831621"
      ]
     },
     "execution_count": 55,
     "metadata": {},
     "output_type": "execute_result"
    }
   ],
   "source": [
    "l2.evalf()"
   ]
  },
  {
   "cell_type": "markdown",
   "metadata": {},
   "source": [
    "(e)"
   ]
  },
  {
   "cell_type": "code",
   "execution_count": 56,
   "metadata": {
    "collapsed": false
   },
   "outputs": [],
   "source": [
    "M3 = M2 - eigenvalue2 * eigenvector2 * eigenvector2.transpose()"
   ]
  },
  {
   "cell_type": "code",
   "execution_count": 57,
   "metadata": {
    "collapsed": false
   },
   "outputs": [
    {
     "data": {
      "text/latex": [
       "$$\\left[\\begin{matrix}-2.46071385490154 \\cdot 10^{-10} & -5.87290355236192 \\cdot 10^{-10} & -9.28509158448776 \\cdot 10^{-10}\\\\-5.87290327480616 \\cdot 10^{-10} & -1.40166622752957 \\cdot 10^{-9} & -2.21604207206738 \\cdot 10^{-9}\\\\-9.28509158448776 \\cdot 10^{-10} & -2.21604207206738 \\cdot 10^{-9} & -3.50357459710793 \\cdot 10^{-9}\\end{matrix}\\right]$$"
      ],
      "text/plain": [
       "⎡-2.46071385490154e-10  -5.87290355236192e-10  -9.28509158448776e-10⎤\n",
       "⎢                                                                   ⎥\n",
       "⎢-5.87290327480616e-10  -1.40166622752957e-9   -2.21604207206738e-9 ⎥\n",
       "⎢                                                                   ⎥\n",
       "⎣-9.28509158448776e-10  -2.21604207206738e-9   -3.50357459710793e-9 ⎦"
      ]
     },
     "execution_count": 57,
     "metadata": {},
     "output_type": "execute_result"
    }
   ],
   "source": [
    "M3 #That's pretty darn close to zero"
   ]
  },
  {
   "cell_type": "markdown",
   "metadata": {},
   "source": [
    "**Exercise 11.1.7** : Repeat Exercise 11.1.6 for the matrix of Exercise 11.1.5."
   ]
  },
  {
   "cell_type": "code",
   "execution_count": 58,
   "metadata": {
    "collapsed": false
   },
   "outputs": [],
   "source": [
    "eigenvector, eigenvalue = power_iteration(matrix_11_1_5, Matrix([1,1,1]), 0.0001)"
   ]
  },
  {
   "cell_type": "code",
   "execution_count": 59,
   "metadata": {
    "collapsed": false
   },
   "outputs": [],
   "source": [
    "M2 = matrix_11_1_5 - eigenvalue * eigenvector * eigenvector.transpose()"
   ]
  },
  {
   "cell_type": "code",
   "execution_count": 60,
   "metadata": {
    "collapsed": false
   },
   "outputs": [],
   "source": [
    "eigenvector2, eigenvalue2 = power_iteration(M2, Matrix([1,1,1]), 0.0001)"
   ]
  },
  {
   "cell_type": "code",
   "execution_count": 61,
   "metadata": {
    "collapsed": false
   },
   "outputs": [
    {
     "data": {
      "text/latex": [
       "$$7.87298334617272$$"
      ],
      "text/plain": [
       "7.87298334617272"
      ]
     },
     "execution_count": 61,
     "metadata": {},
     "output_type": "execute_result"
    }
   ],
   "source": [
    "eigenvalue"
   ]
  },
  {
   "cell_type": "code",
   "execution_count": 62,
   "metadata": {
    "collapsed": false
   },
   "outputs": [
    {
     "data": {
      "text/latex": [
       "$$1.00000000026634$$"
      ],
      "text/plain": [
       "1.00000000026634"
      ]
     },
     "execution_count": 62,
     "metadata": {},
     "output_type": "execute_result"
    }
   ],
   "source": [
    "eigenvalue2"
   ]
  }
 ],
 "metadata": {
  "kernelspec": {
   "display_name": "Python 3",
   "language": "python",
   "name": "python3"
  },
  "language_info": {
   "codemirror_mode": {
    "name": "ipython",
    "version": 3
   },
   "file_extension": ".py",
   "mimetype": "text/x-python",
   "name": "python",
   "nbconvert_exporter": "python",
   "pygments_lexer": "ipython3",
   "version": "3.4.3"
  }
 },
 "nbformat": 4,
 "nbformat_minor": 0
}
