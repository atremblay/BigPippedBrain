{
 "metadata": {
  "name": "",
  "signature": "sha256:2884d067aec27f685e978267baae75e7fa244af75135ff3bf5ddb8e646d97f7d"
 },
 "nbformat": 3,
 "nbformat_minor": 0,
 "worksheets": [
  {
   "cells": [
    {
     "cell_type": "code",
     "collapsed": false,
     "input": [
      "import sympy as sy\n",
      "from sympy import solve_linear_system\n",
      "from sympy.matrices import Matrix, eye, zeros\n",
      "import numpy as np"
     ],
     "language": "python",
     "metadata": {},
     "outputs": [],
     "prompt_number": 207
    },
    {
     "cell_type": "code",
     "collapsed": false,
     "input": [
      "sympy.init_printing()"
     ],
     "language": "python",
     "metadata": {},
     "outputs": [],
     "prompt_number": 4
    },
    {
     "cell_type": "markdown",
     "metadata": {},
     "source": [
      "**Exercise 11.1.1**: Find the unit vector in the same direction as the vector [1, 2, 3]"
     ]
    },
    {
     "cell_type": "code",
     "collapsed": false,
     "input": [
      "a_vec = Matrix([1,2,3])"
     ],
     "language": "python",
     "metadata": {},
     "outputs": [],
     "prompt_number": 133
    },
    {
     "cell_type": "code",
     "collapsed": false,
     "input": [
      "a_vec_norm = a_vec.norm(2)"
     ],
     "language": "python",
     "metadata": {},
     "outputs": [],
     "prompt_number": 143
    },
    {
     "cell_type": "code",
     "collapsed": false,
     "input": [
      "u = a_vec/a_vec_norm"
     ],
     "language": "python",
     "metadata": {},
     "outputs": [],
     "prompt_number": 147
    },
    {
     "cell_type": "markdown",
     "metadata": {},
     "source": [
      "Checking if it is really a unit vector, $u^T\\cdot u$"
     ]
    },
    {
     "cell_type": "code",
     "collapsed": false,
     "input": [
      "u.transpose()*u"
     ],
     "language": "python",
     "metadata": {},
     "outputs": [
      {
       "latex": [
        "$$\\left[\\begin{matrix}1\\end{matrix}\\right]$$"
       ],
       "metadata": {},
       "output_type": "pyout",
       "prompt_number": 148,
       "text": [
        "[1]"
       ]
      }
     ],
     "prompt_number": 148
    },
    {
     "cell_type": "markdown",
     "metadata": {},
     "source": [
      "**Exercise 11.1.2**: Complete Example 11.4 by computing the principal eigen- vector of the matrix that was constructed in this example. How close to the correct solution (from Example 11.2) are you?"
     ]
    },
    {
     "cell_type": "code",
     "collapsed": false,
     "input": [
      "def power_iteration(M, x, delta, verbose=False):\n",
      "    x_a = x\n",
      "    iteration = 0\n",
      "    while True:\n",
      "        Mx = M*x_a\n",
      "        x_b = Mx / (Mx).norm(2)\n",
      "        iteration += 1\n",
      "        if (x_a - x_b).norm(2) <= delta:\n",
      "            break\n",
      "        x_a = x_b\n",
      "        \n",
      "    l = x_b.transpose() * M * x_b\n",
      "    return x_b.evalf(), l.evalf()[0]"
     ],
     "language": "python",
     "metadata": {},
     "outputs": [],
     "prompt_number": 178
    },
    {
     "cell_type": "code",
     "collapsed": false,
     "input": [
      "M = Matrix([[3,2],[2,6]])\n",
      "x = Matrix([1,1])\n",
      "eigvec1, eigval1 = power_iteration(M, x, 0.00001)"
     ],
     "language": "python",
     "metadata": {},
     "outputs": [],
     "prompt_number": 198
    },
    {
     "cell_type": "code",
     "collapsed": false,
     "input": [
      "eigvec1"
     ],
     "language": "python",
     "metadata": {},
     "outputs": [
      {
       "latex": [
        "$$\\left[\\begin{matrix}0.447214676294553\\\\0.894426650601802\\end{matrix}\\right]$$"
       ],
       "metadata": {},
       "output_type": "pyout",
       "prompt_number": 201,
       "text": [
        "\u23a10.447214676294553\u23a4\n",
        "\u23a2                 \u23a5\n",
        "\u23a30.894426650601802\u23a6"
       ]
      }
     ],
     "prompt_number": 201
    },
    {
     "cell_type": "code",
     "collapsed": false,
     "input": [
      "eigval1"
     ],
     "language": "python",
     "metadata": {},
     "outputs": [
      {
       "latex": [
        "$$6.9999999999927$$"
       ],
       "metadata": {},
       "output_type": "pyout",
       "png": "[encoded data removed]",
       "prompt_number": 200,
       "text": [
        "6.99999999999270"
       ]
      }
     ],
     "prompt_number": 200
    },
    {
     "cell_type": "markdown",
     "metadata": {},
     "source": [
      "For the subsequent eigenpairs, start over with $M\u2217 = M \u2212 \\lambda xx^T$"
     ]
    },
    {
     "cell_type": "code",
     "collapsed": false,
     "input": [
      "M2 = M - eigval1 * eigvec1 * eigvec1.transpose()"
     ],
     "language": "python",
     "metadata": {},
     "outputs": [],
     "prompt_number": 202
    },
    {
     "cell_type": "code",
     "collapsed": false,
     "input": [
      "eigvec2, eigval2 = power_iteration(M2, x, 0.00001)"
     ],
     "language": "python",
     "metadata": {},
     "outputs": [],
     "prompt_number": 203
    },
    {
     "cell_type": "code",
     "collapsed": false,
     "input": [
      "eigvec2"
     ],
     "language": "python",
     "metadata": {},
     "outputs": [
      {
       "latex": [
        "$$\\left[\\begin{matrix}0.894425299600804\\\\-0.447217378278183\\end{matrix}\\right]$$"
       ],
       "metadata": {},
       "output_type": "pyout",
       "prompt_number": 205,
       "text": [
        "\u23a10.894425299600804 \u23a4\n",
        "\u23a2                  \u23a5\n",
        "\u23a3-0.447217378278183\u23a6"
       ]
      }
     ],
     "prompt_number": 205
    },
    {
     "cell_type": "code",
     "collapsed": false,
     "input": [
      "eigval2"
     ],
     "language": "python",
     "metadata": {},
     "outputs": [
      {
       "latex": [
        "$$2.00000000002555$$"
       ],
       "metadata": {},
       "output_type": "pyout",
       "png": "[encoded data removed]",
       "prompt_number": 206,
       "text": [
        "2.00000000002555"
       ]
      }
     ],
     "prompt_number": 206
    },
    {
     "cell_type": "markdown",
     "metadata": {},
     "source": [
      "**Exercise 11.1.3** For any symetric 3x3 matrix, there is a cubic equation in $\\lambda$ that says the determinant of this matrix is 0. In terms of *a* through *f*, find this equation."
     ]
    },
    {
     "cell_type": "code",
     "collapsed": false,
     "input": [
      "l = sy.Symbol('lambda', real=True)\n",
      "a, b, c, d, e, f = sy.symbols('a:f', real=True)"
     ],
     "language": "python",
     "metadata": {},
     "outputs": [],
     "prompt_number": 20
    },
    {
     "cell_type": "code",
     "collapsed": false,
     "input": [
      "symetric_matrix = Matrix([[a-l, b, c],[b, d-l, e],[c, e, f-l]])"
     ],
     "language": "python",
     "metadata": {},
     "outputs": [],
     "prompt_number": 28
    },
    {
     "cell_type": "code",
     "collapsed": false,
     "input": [
      "symetric_matrix"
     ],
     "language": "python",
     "metadata": {},
     "outputs": [
      {
       "latex": [
        "$$\\left[\\begin{matrix}a - \\lambda & b & c\\\\b & d - \\lambda & e\\\\c & e & f - \\lambda\\end{matrix}\\right]$$"
       ],
       "metadata": {},
       "output_type": "pyout",
       "prompt_number": 29,
       "text": [
        "\u23a1a - \u03bb    b      c  \u23a4\n",
        "\u23a2                   \u23a5\n",
        "\u23a2  b    d - \u03bb    e  \u23a5\n",
        "\u23a2                   \u23a5\n",
        "\u23a3  c      e    f - \u03bb\u23a6"
       ]
      }
     ],
     "prompt_number": 29
    },
    {
     "cell_type": "code",
     "collapsed": false,
     "input": [
      "symetric_matrix.det()"
     ],
     "language": "python",
     "metadata": {},
     "outputs": [
      {
       "latex": [
        "$$a d f - a d \\lambda - a e^{2} - a f \\lambda + a \\lambda^{2} - b^{2} f + b^{2} \\lambda + 2 b c e - c^{2} d + c^{2} \\lambda - d f \\lambda + d \\lambda^{2} + e^{2} \\lambda + f \\lambda^{2} - \\lambda^{3}$$"
       ],
       "metadata": {},
       "output_type": "pyout",
       "png": "[encoded data removed]",
       "prompt_number": 30,
       "text": [
        "                   2              2    2      2                2      2       \n",
        "a\u22c5d\u22c5f - a\u22c5d\u22c5\u03bb - a\u22c5e  - a\u22c5f\u22c5\u03bb + a\u22c5\u03bb  - b \u22c5f + b \u22c5\u03bb + 2\u22c5b\u22c5c\u22c5e - c \u22c5d + c \u22c5\u03bb - d\u22c5\n",
        "\n",
        "         2    2        2    3\n",
        "f\u22c5\u03bb + d\u22c5\u03bb  + e \u22c5\u03bb + f\u22c5\u03bb  - \u03bb "
       ]
      }
     ],
     "prompt_number": 30
    },
    {
     "cell_type": "markdown",
     "metadata": {},
     "source": [
      "**Exercise 11.1.4** : Find the eigenpairs for the following matrix"
     ]
    },
    {
     "cell_type": "code",
     "collapsed": false,
     "input": [
      "l = sy.Symbol('lambda', real=True)\n",
      "x, y, z = sy.symbols('x:z', real=True)"
     ],
     "language": "python",
     "metadata": {},
     "outputs": [],
     "prompt_number": 226
    },
    {
     "cell_type": "code",
     "collapsed": false,
     "input": [
      "def lambda_(i, j):\n",
      "    if i == j:\n",
      "        return l\n",
      "    return 0"
     ],
     "language": "python",
     "metadata": {},
     "outputs": [],
     "prompt_number": 218
    },
    {
     "cell_type": "code",
     "collapsed": false,
     "input": [
      "matrix_11_1_4 = Matrix([[1, 1, 1],[1, 2, 3],[1, 3, 5]])\n",
      "matrix_11_1_4"
     ],
     "language": "python",
     "metadata": {},
     "outputs": [
      {
       "latex": [
        "$$\\left[\\begin{matrix}1 & 1 & 1\\\\1 & 2 & 3\\\\1 & 3 & 5\\end{matrix}\\right]$$"
       ],
       "metadata": {},
       "output_type": "pyout",
       "prompt_number": 219,
       "text": [
        "\u23a11  1  1\u23a4\n",
        "\u23a2       \u23a5\n",
        "\u23a21  2  3\u23a5\n",
        "\u23a2       \u23a5\n",
        "\u23a31  3  5\u23a6"
       ]
      }
     ],
     "prompt_number": 219
    },
    {
     "cell_type": "markdown",
     "metadata": {},
     "source": [
      "Trouvons les eigenvalues avec le $det(M) = 0$"
     ]
    },
    {
     "cell_type": "code",
     "collapsed": false,
     "input": [
      "matrix_11_1_4 - Matrix(3,3,lambda_)"
     ],
     "language": "python",
     "metadata": {},
     "outputs": [
      {
       "latex": [
        "$$\\left[\\begin{matrix}- \\lambda + 1 & 1 & 1\\\\1 & - \\lambda + 2 & 3\\\\1 & 3 & - \\lambda + 5\\end{matrix}\\right]$$"
       ],
       "metadata": {},
       "output_type": "pyout",
       "prompt_number": 220,
       "text": [
        "\u23a1-\u03bb + 1    1       1   \u23a4\n",
        "\u23a2                      \u23a5\n",
        "\u23a2  1     -\u03bb + 2    3   \u23a5\n",
        "\u23a2                      \u23a5\n",
        "\u23a3  1       3     -\u03bb + 5\u23a6"
       ]
      }
     ],
     "prompt_number": 220
    },
    {
     "cell_type": "code",
     "collapsed": false,
     "input": [
      "det = (matrix_11_1_4 - Matrix(3,3,lambda_)).det()"
     ],
     "language": "python",
     "metadata": {},
     "outputs": [],
     "prompt_number": 221
    },
    {
     "cell_type": "code",
     "collapsed": false,
     "input": [
      "eigenvalues_11_1_4 = sy.solve(det, l)\n",
      "eigenvalues_11_1_4"
     ],
     "language": "python",
     "metadata": {},
     "outputs": [
      {
       "latex": [
        "$$\\begin{bmatrix}0, & - \\sqrt{10} + 4, & \\sqrt{10} + 4\\end{bmatrix}$$"
       ],
       "metadata": {},
       "output_type": "pyout",
       "prompt_number": 222,
       "text": [
        "\u23a1       ____        ____    \u23a4\n",
        "\u23a30, - \u2572\u2571 10  + 4, \u2572\u2571 10  + 4\u23a6"
       ]
      }
     ],
     "prompt_number": 222
    },
    {
     "cell_type": "code",
     "collapsed": false,
     "input": [
      "l1, l2, l3 = eigenvalues_11_1_4"
     ],
     "language": "python",
     "metadata": {},
     "outputs": [],
     "prompt_number": 223
    },
    {
     "cell_type": "code",
     "collapsed": false,
     "input": [
      "(matrix_11_1_4-l2*Identity).row_join(Matrix(3,1,[0,0,0]))"
     ],
     "language": "python",
     "metadata": {},
     "outputs": [
      {
       "latex": [
        "$$\\left[\\begin{matrix}-3 + \\sqrt{10} & 1 & 1 & 0\\\\1 & -2 + \\sqrt{10} & 3 & 0\\\\1 & 3 & 1 + \\sqrt{10} & 0\\end{matrix}\\right]$$"
       ],
       "metadata": {},
       "output_type": "pyout",
       "prompt_number": 227,
       "text": [
        "\u23a1       ____                            \u23a4\n",
        "\u23a2-3 + \u2572\u2571 10        1           1       0\u23a5\n",
        "\u23a2                                       \u23a5\n",
        "\u23a2                    ____               \u23a5\n",
        "\u23a2     1       -2 + \u2572\u2571 10       3       0\u23a5\n",
        "\u23a2                                       \u23a5\n",
        "\u23a2                                ____   \u23a5\n",
        "\u23a3     1            3       1 + \u2572\u2571 10   0\u23a6"
       ]
      }
     ],
     "prompt_number": 227
    },
    {
     "cell_type": "markdown",
     "metadata": {},
     "source": [
      "First eigenpair"
     ]
    },
    {
     "cell_type": "code",
     "collapsed": false,
     "input": [
      "Identity = eye(3)\n",
      "lin_sys = solve_linear_system((matrix_11_1_4-l1*Identity).row_join(Matrix(3,1,[0,0,0])), x, y, z)\n",
      "lin_sys"
     ],
     "language": "python",
     "metadata": {},
     "outputs": [
      {
       "latex": [
        "$$\\begin{Bmatrix}x : z, & y : - 2 z\\end{Bmatrix}$$"
       ],
       "metadata": {},
       "output_type": "pyout",
       "prompt_number": 254,
       "text": [
        "{x: z, y: -2\u22c5z}"
       ]
      }
     ],
     "prompt_number": 254
    },
    {
     "cell_type": "code",
     "collapsed": false,
     "input": [
      "e1 = Matrix([lin_sys[x].subs(z,1), lin_sys[y].subs(z,1), 1])\n",
      "e1"
     ],
     "language": "python",
     "metadata": {},
     "outputs": [
      {
       "latex": [
        "$$\\left[\\begin{matrix}1\\\\-2\\\\1\\end{matrix}\\right]$$"
       ],
       "metadata": {},
       "output_type": "pyout",
       "prompt_number": 257,
       "text": [
        "\u23a11 \u23a4\n",
        "\u23a2  \u23a5\n",
        "\u23a2-2\u23a5\n",
        "\u23a2  \u23a5\n",
        "\u23a31 \u23a6"
       ]
      }
     ],
     "prompt_number": 257
    },
    {
     "cell_type": "markdown",
     "metadata": {},
     "source": [
      "Second Eigenvector"
     ]
    },
    {
     "cell_type": "code",
     "collapsed": false,
     "input": [
      "Identity = eye(3)\n",
      "lin_sys = solve_linear_system((matrix_11_1_4-l2*Identity).row_join(Matrix(3,1,[0,0,0])), x, y, z)\n",
      "lin_sys"
     ],
     "language": "python",
     "metadata": {},
     "outputs": [
      {
       "latex": [
        "$$\\begin{Bmatrix}x : - \\frac{2 z}{5} \\sqrt{10} - z, & y : - \\frac{\\sqrt{10} z}{5}\\end{Bmatrix}$$"
       ],
       "metadata": {},
       "output_type": "pyout",
       "prompt_number": 259,
       "text": [
        "\u23a7         ____              ____   \u23ab\n",
        "\u23aa     2\u22c5\u2572\u2571 10 \u22c5z         -\u2572\u2571 10 \u22c5z \u23aa\n",
        "\u23a8x: - \u2500\u2500\u2500\u2500\u2500\u2500\u2500\u2500\u2500\u2500 - z, y: \u2500\u2500\u2500\u2500\u2500\u2500\u2500\u2500\u2500\u2500\u23ac\n",
        "\u23aa         5                  5     \u23aa\n",
        "\u23a9                                  \u23ad"
       ]
      }
     ],
     "prompt_number": 259
    },
    {
     "cell_type": "code",
     "collapsed": false,
     "input": [
      "e2 = Matrix([lin_sys[x].subs(z,1), lin_sys[y].subs(z,1), 1])\n",
      "e2"
     ],
     "language": "python",
     "metadata": {},
     "outputs": [
      {
       "latex": [
        "$$\\left[\\begin{matrix}- \\frac{2 \\sqrt{10}}{5} - 1\\\\- \\frac{\\sqrt{10}}{5}\\\\1\\end{matrix}\\right]$$"
       ],
       "metadata": {},
       "output_type": "pyout",
       "prompt_number": 262,
       "text": [
        "\u23a1      ____    \u23a4\n",
        "\u23a2  2\u22c5\u2572\u2571 10     \u23a5\n",
        "\u23a2- \u2500\u2500\u2500\u2500\u2500\u2500\u2500\u2500 - 1\u23a5\n",
        "\u23a2     5        \u23a5\n",
        "\u23a2              \u23a5\n",
        "\u23a2      ____    \u23a5\n",
        "\u23a2   -\u2572\u2571 10     \u23a5\n",
        "\u23a2   \u2500\u2500\u2500\u2500\u2500\u2500\u2500\u2500   \u23a5\n",
        "\u23a2      5       \u23a5\n",
        "\u23a2              \u23a5\n",
        "\u23a3      1       \u23a6"
       ]
      }
     ],
     "prompt_number": 262
    },
    {
     "cell_type": "markdown",
     "metadata": {},
     "source": [
      "Third Eigenvector"
     ]
    },
    {
     "cell_type": "code",
     "collapsed": false,
     "input": [
      "Identity = eye(3)\n",
      "lin_sys = solve_linear_system((matrix_11_1_4-l3*Identity).row_join(Matrix(3,1,[0,0,0])), x, y, z)\n",
      "lin_sys"
     ],
     "language": "python",
     "metadata": {},
     "outputs": [
      {
       "latex": [
        "$$\\begin{Bmatrix}x : - z + \\frac{2 z}{5} \\sqrt{10}, & y : \\frac{\\sqrt{10} z}{5}\\end{Bmatrix}$$"
       ],
       "metadata": {},
       "output_type": "pyout",
       "prompt_number": 277,
       "text": [
        "\u23a7            ____         ____  \u23ab\n",
        "\u23aa        2\u22c5\u2572\u2571 10 \u22c5z     \u2572\u2571 10 \u22c5z\u23aa\n",
        "\u23a8x: -z + \u2500\u2500\u2500\u2500\u2500\u2500\u2500\u2500\u2500\u2500, y: \u2500\u2500\u2500\u2500\u2500\u2500\u2500\u2500\u23ac\n",
        "\u23aa            5             5    \u23aa\n",
        "\u23a9                               \u23ad"
       ]
      }
     ],
     "prompt_number": 277
    },
    {
     "cell_type": "code",
     "collapsed": false,
     "input": [
      "e3 = Matrix([lin_sys[x].subs(z,1), lin_sys[y].subs(z,1), 1])\n",
      "e3"
     ],
     "language": "python",
     "metadata": {},
     "outputs": [
      {
       "latex": [
        "$$\\left[\\begin{matrix}-1 + \\frac{2 \\sqrt{10}}{5}\\\\\\frac{\\sqrt{10}}{5}\\\\1\\end{matrix}\\right]$$"
       ],
       "metadata": {},
       "output_type": "pyout",
       "prompt_number": 279,
       "text": [
        "\u23a1         ____\u23a4\n",
        "\u23a2     2\u22c5\u2572\u2571 10 \u23a5\n",
        "\u23a2-1 + \u2500\u2500\u2500\u2500\u2500\u2500\u2500\u2500\u23a5\n",
        "\u23a2        5    \u23a5\n",
        "\u23a2             \u23a5\n",
        "\u23a2     ____    \u23a5\n",
        "\u23a2   \u2572\u2571 10     \u23a5\n",
        "\u23a2   \u2500\u2500\u2500\u2500\u2500\u2500    \u23a5\n",
        "\u23a2     5       \u23a5\n",
        "\u23a2             \u23a5\n",
        "\u23a3      1      \u23a6"
       ]
      }
     ],
     "prompt_number": 279
    },
    {
     "cell_type": "markdown",
     "metadata": {},
     "source": [
      "Let's use sympy's builtin functions for finding the eigenvectors and check if our answers are correct"
     ]
    },
    {
     "cell_type": "code",
     "collapsed": false,
     "input": [
      "matrix_11_1_4.eigenvects() #(eigenval, multiplicity, basis)"
     ],
     "language": "python",
     "metadata": {},
     "outputs": [
      {
       "latex": [
        "$$\\begin{bmatrix}\\begin{pmatrix}0, & 1, & \\begin{bmatrix}\\left[\\begin{matrix}1\\\\-2\\\\1\\end{matrix}\\right]\\end{bmatrix}\\end{pmatrix}, & \\begin{pmatrix}- \\sqrt{10} + 4, & 1, & \\begin{bmatrix}\\left[\\begin{matrix}- \\frac{1}{-3 + \\sqrt{10}} + \\frac{1}{-3 + \\sqrt{10}} \\left(- \\frac{3}{5} + \\frac{1}{-15 + 5 \\sqrt{10}}\\right)\\\\- \\frac{1}{-15 + 5 \\sqrt{10}} + \\frac{3}{5}\\\\1\\end{matrix}\\right]\\end{bmatrix}\\end{pmatrix}, & \\begin{pmatrix}\\sqrt{10} + 4, & 1, & \\begin{bmatrix}\\left[\\begin{matrix}\\frac{- \\frac{3}{5} + \\frac{1}{- 5 \\sqrt{10} - 15}}{- \\sqrt{10} - 3} - \\frac{1}{- \\sqrt{10} - 3}\\\\- \\frac{1}{- 5 \\sqrt{10} - 15} + \\frac{3}{5}\\\\1\\end{matrix}\\right]\\end{bmatrix}\\end{pmatrix}\\end{bmatrix}$$"
       ],
       "metadata": {},
       "output_type": "pyout",
       "prompt_number": 287,
       "text": [
        "\u23a1                \u239b                 \u23a1\u23a1                  3          1       \u23a4\u23a4\u239e \n",
        "\u23a2                \u239c                 \u23a2\u23a2                - \u2500 + \u2500\u2500\u2500\u2500\u2500\u2500\u2500\u2500\u2500\u2500\u2500\u2500\u2500\u2500\u2500\u23a5\u23a5\u239f \n",
        "\u23a2                \u239c                 \u23a2\u23a2                  5     \u239b       ____\u239e\u23a5\u23a5\u239f \n",
        "\u23a2                \u239c    ____         \u23a2\u23a2       1              5\u22c5\u239d-3 + \u2572\u2571 10 \u23a0\u23a5\u23a5\u239f \n",
        "\u23a2\u239b0, 1, \u23a1\u23a11 \u23a4\u23a4\u239e, \u239c- \u2572\u2571 10  + 4, 1, \u23a2\u23a2- \u2500\u2500\u2500\u2500\u2500\u2500\u2500\u2500\u2500\u2500\u2500 + \u2500\u2500\u2500\u2500\u2500\u2500\u2500\u2500\u2500\u2500\u2500\u2500\u2500\u2500\u2500\u2500\u2500\u2500\u2500\u2500\u2500\u23a5\u23a5\u239f,\n",
        "\u23a2\u239c      \u23a2\u23a2  \u23a5\u23a5\u239f  \u239c                 \u23a2\u23a2         ____               ____     \u23a5\u23a5\u239f \n",
        "\u23a2\u239c      \u23a2\u23a2-2\u23a5\u23a5\u239f  \u239c                 \u23a2\u23a2  -3 + \u2572\u2571 10         -3 + \u2572\u2571 10      \u23a5\u23a5\u239f \n",
        "\u23a2\u239c      \u23a2\u23a2  \u23a5\u23a5\u239f  \u239c                 \u23a2\u23a2                                     \u23a5\u23a5\u239f \n",
        "\u23a2\u239d      \u23a3\u23a31 \u23a6\u23a6\u23a0  \u239c                 \u23a2\u23a2                 1          3        \u23a5\u23a5\u239f \n",
        "\u23a2                \u239c                 \u23a2\u23a2        - \u2500\u2500\u2500\u2500\u2500\u2500\u2500\u2500\u2500\u2500\u2500\u2500\u2500\u2500\u2500 + \u2500        \u23a5\u23a5\u239f \n",
        "\u23a2                \u239c                 \u23a2\u23a2            \u239b       ____\u239e   5        \u23a5\u23a5\u239f \n",
        "\u23a2                \u239c                 \u23a2\u23a2          5\u22c5\u239d-3 + \u2572\u2571 10 \u23a0            \u23a5\u23a5\u239f \n",
        "\u23a2                \u239c                 \u23a2\u23a2                                     \u23a5\u23a5\u239f \n",
        "\u23a3                \u239d                 \u23a3\u23a3                  1                  \u23a6\u23a6\u23a0 \n",
        "\n",
        " \u239b               \u23a1\u23a1  3          1                       \u23a4\u23a4\u239e\u23a4\n",
        " \u239c               \u23a2\u23a2- \u2500 + \u2500\u2500\u2500\u2500\u2500\u2500\u2500\u2500\u2500\u2500\u2500\u2500\u2500\u2500\u2500\u2500               \u23a5\u23a5\u239f\u23a5\n",
        " \u239c               \u23a2\u23a2  5     \u239b    ____    \u239e               \u23a5\u23a5\u239f\u23a5\n",
        " \u239c  ____         \u23a2\u23a2      5\u22c5\u239d- \u2572\u2571 10  - 3\u23a0        1      \u23a5\u23a5\u239f\u23a5\n",
        " \u239c\u2572\u2571 10  + 4, 1, \u23a2\u23a2\u2500\u2500\u2500\u2500\u2500\u2500\u2500\u2500\u2500\u2500\u2500\u2500\u2500\u2500\u2500\u2500\u2500\u2500\u2500\u2500\u2500\u2500 - \u2500\u2500\u2500\u2500\u2500\u2500\u2500\u2500\u2500\u2500\u2500\u2500\u23a5\u23a5\u239f\u23a5\n",
        " \u239c               \u23a2\u23a2         ____                ____    \u23a5\u23a5\u239f\u23a5\n",
        " \u239c               \u23a2\u23a2     - \u2572\u2571 10  - 3        - \u2572\u2571 10  - 3\u23a5\u23a5\u239f\u23a5\n",
        " \u239c               \u23a2\u23a2                                     \u23a5\u23a5\u239f\u23a5\n",
        " \u239c               \u23a2\u23a2                1           3        \u23a5\u23a5\u239f\u23a5\n",
        " \u239c               \u23a2\u23a2       - \u2500\u2500\u2500\u2500\u2500\u2500\u2500\u2500\u2500\u2500\u2500\u2500\u2500\u2500\u2500\u2500 + \u2500        \u23a5\u23a5\u239f\u23a5\n",
        " \u239c               \u23a2\u23a2           \u239b    ____    \u239e   5        \u23a5\u23a5\u239f\u23a5\n",
        " \u239c               \u23a2\u23a2         5\u22c5\u239d- \u2572\u2571 10  - 3\u23a0            \u23a5\u23a5\u239f\u23a5\n",
        " \u239c               \u23a2\u23a2                                     \u23a5\u23a5\u239f\u23a5\n",
        " \u239d               \u23a3\u23a3                  1                  \u23a6\u23a6\u23a0\u23a6"
       ]
      }
     ],
     "prompt_number": 287
    },
    {
     "cell_type": "code",
     "collapsed": false,
     "input": [
      "matrix_11_1_4.eigenvects()[0][2][0].evalf() == e1.evalf()"
     ],
     "language": "python",
     "metadata": {},
     "outputs": [
      {
       "metadata": {},
       "output_type": "pyout",
       "prompt_number": 283,
       "text": [
        "True"
       ]
      }
     ],
     "prompt_number": 283
    },
    {
     "cell_type": "code",
     "collapsed": false,
     "input": [
      "matrix_11_1_4.eigenvects()[1][2][0].evalf() == e2.evalf()"
     ],
     "language": "python",
     "metadata": {},
     "outputs": [
      {
       "metadata": {},
       "output_type": "pyout",
       "prompt_number": 284,
       "text": [
        "True"
       ]
      }
     ],
     "prompt_number": 284
    },
    {
     "cell_type": "code",
     "collapsed": false,
     "input": [
      "matrix_11_1_4.eigenvects()[2][2][0].evalf() == e3.evalf()"
     ],
     "language": "python",
     "metadata": {},
     "outputs": [
      {
       "metadata": {},
       "output_type": "pyout",
       "prompt_number": 285,
       "text": [
        "True"
       ]
      }
     ],
     "prompt_number": 285
    },
    {
     "cell_type": "markdown",
     "metadata": {},
     "source": [
      "**Exercise 11.1.5** : Find the eigenpairs for the following matrix"
     ]
    },
    {
     "cell_type": "code",
     "collapsed": false,
     "input": [
      "# Practically the same thing as in 11.1.4\n",
      "matrix_11_1_5 = Matrix([[1, 1, 1],[1, 2, 3],[1, 3, 6]])\n",
      "matrix_11_1_5"
     ],
     "language": "python",
     "metadata": {},
     "outputs": [
      {
       "latex": [
        "$$\\left[\\begin{matrix}1 & 1 & 1\\\\1 & 2 & 3\\\\1 & 3 & 6\\end{matrix}\\right]$$"
       ],
       "metadata": {},
       "output_type": "pyout",
       "prompt_number": 282,
       "text": [
        "\u23a11  1  1\u23a4\n",
        "\u23a2       \u23a5\n",
        "\u23a21  2  3\u23a5\n",
        "\u23a2       \u23a5\n",
        "\u23a31  3  6\u23a6"
       ]
      }
     ],
     "prompt_number": 282
    },
    {
     "cell_type": "markdown",
     "metadata": {},
     "source": [
      "No need to do it by hand, we did it in 11.1.4"
     ]
    },
    {
     "cell_type": "code",
     "collapsed": false,
     "input": [
      "matrix_11_1_5.eigenvects()"
     ],
     "language": "python",
     "metadata": {},
     "outputs": [
      {
       "latex": [
        "$$\\begin{bmatrix}\\begin{pmatrix}1, & 1, & \\begin{bmatrix}\\left[\\begin{matrix}-2\\\\-1\\\\1\\end{matrix}\\right]\\end{bmatrix}\\end{pmatrix}, & \\begin{pmatrix}- \\sqrt{15} + 4, & 1, & \\begin{bmatrix}\\left[\\begin{matrix}- \\frac{1}{-3 + \\sqrt{15}} + \\frac{- \\frac{1}{-3 + \\sqrt{15}} + 3}{\\left(-3 + \\sqrt{15}\\right) \\left(- \\frac{5}{2} + \\frac{5 \\sqrt{15}}{6}\\right)}\\\\- \\frac{- \\frac{1}{-3 + \\sqrt{15}} + 3}{- \\frac{5}{2} + \\frac{5 \\sqrt{15}}{6}}\\\\1\\end{matrix}\\right]\\end{bmatrix}\\end{pmatrix}, & \\begin{pmatrix}\\sqrt{15} + 4, & 1, & \\begin{bmatrix}\\left[\\begin{matrix}\\frac{- \\frac{1}{- \\sqrt{15} - 3} + 3}{\\left(- \\sqrt{15} - 3\\right) \\left(- \\frac{5 \\sqrt{15}}{6} - \\frac{5}{2}\\right)} - \\frac{1}{- \\sqrt{15} - 3}\\\\- \\frac{- \\frac{1}{- \\sqrt{15} - 3} + 3}{- \\frac{5 \\sqrt{15}}{6} - \\frac{5}{2}}\\\\1\\end{matrix}\\right]\\end{bmatrix}\\end{pmatrix}\\end{bmatrix}$$"
       ],
       "metadata": {},
       "output_type": "pyout",
       "prompt_number": 289,
       "text": [
        "\u23a1                \u239b                 \u23a1\u23a1                             1           \n",
        "\u23a2                \u239c                 \u23a2\u23a2                      - \u2500\u2500\u2500\u2500\u2500\u2500\u2500\u2500\u2500\u2500\u2500 + 3  \n",
        "\u23a2                \u239c                 \u23a2\u23a2                               ____      \n",
        "\u23a2                \u239c    ____         \u23a2\u23a2       1                -3 + \u2572\u2571 15       \n",
        "\u23a2\u239b1, 1, \u23a1\u23a1-2\u23a4\u23a4\u239e, \u239c- \u2572\u2571 15  + 4, 1, \u23a2\u23a2- \u2500\u2500\u2500\u2500\u2500\u2500\u2500\u2500\u2500\u2500\u2500 + \u2500\u2500\u2500\u2500\u2500\u2500\u2500\u2500\u2500\u2500\u2500\u2500\u2500\u2500\u2500\u2500\u2500\u2500\u2500\u2500\u2500\u2500\u2500\u2500\u2500\n",
        "\u23a2\u239c      \u23a2\u23a2  \u23a5\u23a5\u239f  \u239c                 \u23a2\u23a2         ____                 \u239b          \n",
        "\u23a2\u239c      \u23a2\u23a2-1\u23a5\u23a5\u239f  \u239c                 \u23a2\u23a2  -3 + \u2572\u2571 15    \u239b       ____\u239e \u239c  5   5\u22c5\u2572\u2571\n",
        "\u23a2\u239c      \u23a2\u23a2  \u23a5\u23a5\u239f  \u239c                 \u23a2\u23a2                \u239d-3 + \u2572\u2571 15 \u23a0\u22c5\u239c- \u2500 + \u2500\u2500\u2500\u2500\n",
        "\u23a2\u239d      \u23a3\u23a31 \u23a6\u23a6\u23a0  \u239c                 \u23a2\u23a2                              \u239d  2      6\n",
        "\u23a2                \u239c                 \u23a2\u23a2                                         \n",
        "\u23a2                \u239c                 \u23a2\u23a2             \u239b       1         \u239e         \n",
        "\u23a2                \u239c                 \u23a2\u23a2            -\u239c- \u2500\u2500\u2500\u2500\u2500\u2500\u2500\u2500\u2500\u2500\u2500 + 3\u239f         \n",
        "\u23a2                \u239c                 \u23a2\u23a2             \u239c         ____    \u239f         \n",
        "\u23a2                \u239c                 \u23a2\u23a2             \u239d  -3 + \u2572\u2571 15     \u23a0         \n",
        "\u23a2                \u239c                 \u23a2\u23a2            \u2500\u2500\u2500\u2500\u2500\u2500\u2500\u2500\u2500\u2500\u2500\u2500\u2500\u2500\u2500\u2500\u2500\u2500\u2500\u2500\u2500        \n",
        "\u23a2                \u239c                 \u23a2\u23a2                          ____           \n",
        "\u23a2                \u239c                 \u23a2\u23a2                  5   5\u22c5\u2572\u2571 15            \n",
        "\u23a2                \u239c                 \u23a2\u23a2                - \u2500 + \u2500\u2500\u2500\u2500\u2500\u2500\u2500\u2500           \n",
        "\u23a2                \u239c                 \u23a2\u23a2                  2      6               \n",
        "\u23a2                \u239c                 \u23a2\u23a2                                         \n",
        "\u23a3                \u239d                 \u23a3\u23a3                      1                  \n",
        "\n",
        "     \u23a4\u23a4\u239e  \u239b               \u23a1\u23a1              1                               \u23a4\u23a4\u239e\u23a4\n",
        "     \u23a5\u23a5\u239f  \u239c               \u23a2\u23a2       - \u2500\u2500\u2500\u2500\u2500\u2500\u2500\u2500\u2500\u2500\u2500\u2500 + 3                     \u23a5\u23a5\u239f\u23a5\n",
        "     \u23a5\u23a5\u239f  \u239c               \u23a2\u23a2             ____                             \u23a5\u23a5\u239f\u23a5\n",
        "     \u23a5\u23a5\u239f  \u239c  ____         \u23a2\u23a2         - \u2572\u2571 15  - 3                  1      \u23a5\u23a5\u239f\u23a5\n",
        "\u2500\u2500\u2500\u2500\u2500\u23a5\u23a5\u239f, \u239c\u2572\u2571 15  + 4, 1, \u23a2\u23a2\u2500\u2500\u2500\u2500\u2500\u2500\u2500\u2500\u2500\u2500\u2500\u2500\u2500\u2500\u2500\u2500\u2500\u2500\u2500\u2500\u2500\u2500\u2500\u2500\u2500\u2500\u2500\u2500\u2500\u2500\u2500 - \u2500\u2500\u2500\u2500\u2500\u2500\u2500\u2500\u2500\u2500\u2500\u2500\u23a5\u23a5\u239f\u23a5\n",
        "____\u239e\u23a5\u23a5\u239f  \u239c               \u23a2\u23a2               \u239b      ____    \u239e       ____    \u23a5\u23a5\u239f\u23a5\n",
        " 15 \u239f\u23a5\u23a5\u239f  \u239c               \u23a2\u23a2\u239b    ____    \u239e \u239c  5\u22c5\u2572\u2571 15    5\u239f   - \u2572\u2571 15  - 3\u23a5\u23a5\u239f\u23a5\n",
        "\u2500\u2500\u2500\u2500\u239f\u23a5\u23a5\u239f  \u239c               \u23a2\u23a2\u239d- \u2572\u2571 15  - 3\u23a0\u22c5\u239c- \u2500\u2500\u2500\u2500\u2500\u2500\u2500\u2500 - \u2500\u239f               \u23a5\u23a5\u239f\u23a5\n",
        "    \u23a0\u23a5\u23a5\u239f  \u239c               \u23a2\u23a2               \u239d     6       2\u23a0               \u23a5\u23a5\u239f\u23a5\n",
        "     \u23a5\u23a5\u239f  \u239c               \u23a2\u23a2                                              \u23a5\u23a5\u239f\u23a5\n",
        "     \u23a5\u23a5\u239f  \u239c               \u23a2\u23a2             \u239b       1          \u239e             \u23a5\u23a5\u239f\u23a5\n",
        "     \u23a5\u23a5\u239f  \u239c               \u23a2\u23a2            -\u239c- \u2500\u2500\u2500\u2500\u2500\u2500\u2500\u2500\u2500\u2500\u2500\u2500 + 3\u239f             \u23a5\u23a5\u239f\u23a5\n",
        "     \u23a5\u23a5\u239f  \u239c               \u23a2\u23a2             \u239c      ____        \u239f             \u23a5\u23a5\u239f\u23a5\n",
        "     \u23a5\u23a5\u239f  \u239c               \u23a2\u23a2             \u239d  - \u2572\u2571 15  - 3    \u23a0             \u23a5\u23a5\u239f\u23a5\n",
        "     \u23a5\u23a5\u239f  \u239c               \u23a2\u23a2            \u2500\u2500\u2500\u2500\u2500\u2500\u2500\u2500\u2500\u2500\u2500\u2500\u2500\u2500\u2500\u2500\u2500\u2500\u2500\u2500\u2500\u2500            \u23a5\u23a5\u239f\u23a5\n",
        "     \u23a5\u23a5\u239f  \u239c               \u23a2\u23a2                      ____                    \u23a5\u23a5\u239f\u23a5\n",
        "     \u23a5\u23a5\u239f  \u239c               \u23a2\u23a2                  5\u22c5\u2572\u2571 15    5                \u23a5\u23a5\u239f\u23a5\n",
        "     \u23a5\u23a5\u239f  \u239c               \u23a2\u23a2                - \u2500\u2500\u2500\u2500\u2500\u2500\u2500\u2500 - \u2500                \u23a5\u23a5\u239f\u23a5\n",
        "     \u23a5\u23a5\u239f  \u239c               \u23a2\u23a2                     6       2                \u23a5\u23a5\u239f\u23a5\n",
        "     \u23a5\u23a5\u239f  \u239c               \u23a2\u23a2                                              \u23a5\u23a5\u239f\u23a5\n",
        "     \u23a6\u23a6\u23a0  \u239d               \u23a3\u23a3                      1                       \u23a6\u23a6\u23a0\u23a6"
       ]
      }
     ],
     "prompt_number": 289
    },
    {
     "cell_type": "code",
     "collapsed": false,
     "input": [
      "matrix_11_1_5.eigenvects()[0][2][0].evalf()"
     ],
     "language": "python",
     "metadata": {},
     "outputs": [
      {
       "latex": [
        "$$\\left[\\begin{matrix}-2.0\\\\-1.0\\\\1.0\\end{matrix}\\right]$$"
       ],
       "metadata": {},
       "output_type": "pyout",
       "prompt_number": 294,
       "text": [
        "\u23a1-2.0\u23a4\n",
        "\u23a2    \u23a5\n",
        "\u23a2-1.0\u23a5\n",
        "\u23a2    \u23a5\n",
        "\u23a31.0 \u23a6"
       ]
      }
     ],
     "prompt_number": 294
    },
    {
     "cell_type": "code",
     "collapsed": false,
     "input": [
      "matrix_11_1_5.eigenvects()[1][2][0].evalf()"
     ],
     "language": "python",
     "metadata": {},
     "outputs": [
      {
       "latex": [
        "$$\\left[\\begin{matrix}1.77459666924148\\\\-2.54919333848297\\\\1.0\\end{matrix}\\right]$$"
       ],
       "metadata": {},
       "output_type": "pyout",
       "prompt_number": 302,
       "text": [
        "\u23a11.77459666924148 \u23a4\n",
        "\u23a2                 \u23a5\n",
        "\u23a2-2.54919333848297\u23a5\n",
        "\u23a2                 \u23a5\n",
        "\u23a3       1.0       \u23a6"
       ]
      }
     ],
     "prompt_number": 302
    },
    {
     "cell_type": "code",
     "collapsed": false,
     "input": [
      "matrix_11_1_5.eigenvects()[1][2][0].evalf() - matrix_11_1_4.eigenvects()[1][2][0].evalf()"
     ],
     "language": "python",
     "metadata": {},
     "outputs": [
      {
       "latex": [
        "$$\\left[\\begin{matrix}4.03950773330883\\\\-1.91673780644929\\\\0\\end{matrix}\\right]$$"
       ],
       "metadata": {},
       "output_type": "pyout",
       "prompt_number": 303,
       "text": [
        "\u23a14.03950773330883 \u23a4\n",
        "\u23a2                 \u23a5\n",
        "\u23a2-1.91673780644929\u23a5\n",
        "\u23a2                 \u23a5\n",
        "\u23a3        0        \u23a6"
       ]
      }
     ],
     "prompt_number": 303
    },
    {
     "cell_type": "code",
     "collapsed": false,
     "input": [
      "matrix_11_1_5.eigenvects()[2][2][0].evalf()"
     ],
     "language": "python",
     "metadata": {},
     "outputs": [
      {
       "latex": [
        "$$\\left[\\begin{matrix}0.225403330758517\\\\0.549193338482967\\\\1.0\\end{matrix}\\right]$$"
       ],
       "metadata": {},
       "output_type": "pyout",
       "prompt_number": 304,
       "text": [
        "\u23a10.225403330758517\u23a4\n",
        "\u23a2                 \u23a5\n",
        "\u23a20.549193338482967\u23a5\n",
        "\u23a2                 \u23a5\n",
        "\u23a3       1.0       \u23a6"
       ]
      }
     ],
     "prompt_number": 304
    },
    {
     "cell_type": "code",
     "collapsed": false,
     "input": [
      "matrix_11_1_5.eigenvects()[2][2][0].evalf() - matrix_11_1_4.eigenvects()[2][2][0].evalf()"
     ],
     "language": "python",
     "metadata": {},
     "outputs": [
      {
       "latex": [
        "$$\\left[\\begin{matrix}-0.0395077333088351\\\\-0.0832621935507091\\\\0\\end{matrix}\\right]$$"
       ],
       "metadata": {},
       "output_type": "pyout",
       "prompt_number": 305,
       "text": [
        "\u23a1-0.0395077333088351\u23a4\n",
        "\u23a2                   \u23a5\n",
        "\u23a2-0.0832621935507091\u23a5\n",
        "\u23a2                   \u23a5\n",
        "\u23a3         0         \u23a6"
       ]
      }
     ],
     "prompt_number": 305
    },
    {
     "cell_type": "markdown",
     "metadata": {},
     "source": [
      "Not sure what the point was to do the same thing with almost the same matrix as 11.1.4. Z is still a free parameter and that's about it"
     ]
    },
    {
     "cell_type": "markdown",
     "metadata": {},
     "source": [
      "**Exercise 11.1.6** : For the matrix of Exercise 11.1.4:\n",
      "<br>(a) Starting with a vector of three 1\u2019s, use power iteration to find an approximate value of the principal eigenvector.\n",
      "<br>(b) Compute an estimate the principal eigenvalue for the matrix.\n",
      "<br>(c) Construct a new matrix by subtracting out the effect of the principal\n",
      "eigenpair, as in Section 11.1.3.\n",
      "<br>(d) From your matrix of (c), find the second eigenpair for the original matrix\n",
      "of Exercise 11.1.4.\n",
      "<br>(e) Repeat (c) and (d) to find the third eigenpair for the original matrix."
     ]
    },
    {
     "cell_type": "markdown",
     "metadata": {},
     "source": [
      "(a) and (b)"
     ]
    },
    {
     "cell_type": "code",
     "collapsed": false,
     "input": [
      "eigenvector, eigenvalue = power_iteration(matrix_11_1_4, Matrix([1,1,1]), 0.0001)"
     ],
     "language": "python",
     "metadata": {},
     "outputs": [],
     "prompt_number": 316
    },
    {
     "cell_type": "code",
     "collapsed": false,
     "input": [
      "eigenvector"
     ],
     "language": "python",
     "metadata": {},
     "outputs": [
      {
       "latex": [
        "$$\\left[\\begin{matrix}0.218490951356121\\\\0.52161154495074\\\\0.824732138545358\\end{matrix}\\right]$$"
       ],
       "metadata": {},
       "output_type": "pyout",
       "prompt_number": 318,
       "text": [
        "\u23a10.218490951356121\u23a4\n",
        "\u23a2                 \u23a5\n",
        "\u23a20.52161154495074 \u23a5\n",
        "\u23a2                 \u23a5\n",
        "\u23a30.824732138545358\u23a6"
       ]
      }
     ],
     "prompt_number": 318
    },
    {
     "cell_type": "code",
     "collapsed": false,
     "input": [
      "(e3/e3.norm(2)).evalf() # The one found at 11.1.4 was not a unit vector"
     ],
     "language": "python",
     "metadata": {},
     "outputs": [
      {
       "latex": [
        "$$\\left[\\begin{matrix}0.218481745187912\\\\0.521608974237994\\\\0.824736203288077\\end{matrix}\\right]$$"
       ],
       "metadata": {},
       "output_type": "pyout",
       "prompt_number": 315,
       "text": [
        "\u23a10.218481745187912\u23a4\n",
        "\u23a2                 \u23a5\n",
        "\u23a20.521608974237994\u23a5\n",
        "\u23a2                 \u23a5\n",
        "\u23a30.824736203288077\u23a6"
       ]
      }
     ],
     "prompt_number": 315
    },
    {
     "cell_type": "code",
     "collapsed": false,
     "input": [
      "eigenvalue"
     ],
     "language": "python",
     "metadata": {},
     "outputs": [
      {
       "latex": [
        "$$7.16227765948606$$"
       ],
       "metadata": {},
       "output_type": "pyout",
       "png": "[encoded data removed]",
       "prompt_number": 319,
       "text": [
        "7.16227765948606"
       ]
      }
     ],
     "prompt_number": 319
    },
    {
     "cell_type": "code",
     "collapsed": false,
     "input": [
      "l3.evalf()"
     ],
     "language": "python",
     "metadata": {},
     "outputs": [
      {
       "latex": [
        "$$7.16227766016838$$"
       ],
       "metadata": {},
       "output_type": "pyout",
       "png": "[encoded data removed]",
       "prompt_number": 311,
       "text": [
        "7.16227766016838"
       ]
      }
     ],
     "prompt_number": 311
    },
    {
     "cell_type": "markdown",
     "metadata": {},
     "source": [
      "(c)"
     ]
    },
    {
     "cell_type": "code",
     "collapsed": false,
     "input": [
      "M2 = matrix_11_1_4 - eigenvalue * eigenvector * eigenvector.transpose()"
     ],
     "language": "python",
     "metadata": {},
     "outputs": [],
     "prompt_number": 321
    },
    {
     "cell_type": "code",
     "collapsed": false,
     "input": [
      "M2"
     ],
     "language": "python",
     "metadata": {},
     "outputs": [
      {
       "latex": [
        "$$\\left[\\begin{matrix}0.658085070314227 & 0.183733817770649 & -0.290617434772928\\\\0.183733817770649 & 0.0512974941936166 & -0.0811388293834159\\\\-0.290617434772928 & -0.0811388293834159 & 0.128339776006097\\end{matrix}\\right]$$"
       ],
       "metadata": {},
       "output_type": "pyout",
       "prompt_number": 323,
       "text": [
        "\u23a10.658085070314227    0.183733817770649   -0.290617434772928 \u23a4\n",
        "\u23a2                                                            \u23a5\n",
        "\u23a20.183733817770649   0.0512974941936166   -0.0811388293834159\u23a5\n",
        "\u23a2                                                            \u23a5\n",
        "\u23a3-0.290617434772928  -0.0811388293834159   0.128339776006097 \u23a6"
       ]
      }
     ],
     "prompt_number": 323
    },
    {
     "cell_type": "markdown",
     "metadata": {},
     "source": [
      "(d)"
     ]
    },
    {
     "cell_type": "code",
     "collapsed": false,
     "input": [
      "eigenvector2, eigenvalue2 = power_iteration(M2, Matrix([1,1,1]), 0.0001)"
     ],
     "language": "python",
     "metadata": {},
     "outputs": [],
     "prompt_number": 324
    },
    {
     "cell_type": "code",
     "collapsed": false,
     "input": [
      "eigenvector2"
     ],
     "language": "python",
     "metadata": {},
     "outputs": [
      {
       "latex": [
        "$$\\left[\\begin{matrix}0.886320856738858\\\\0.247456024432011\\\\-0.391408807874837\\end{matrix}\\right]$$"
       ],
       "metadata": {},
       "output_type": "pyout",
       "prompt_number": 327,
       "text": [
        "\u23a10.886320856738858 \u23a4\n",
        "\u23a2                  \u23a5\n",
        "\u23a20.247456024432011 \u23a5\n",
        "\u23a2                  \u23a5\n",
        "\u23a3-0.391408807874837\u23a6"
       ]
      }
     ],
     "prompt_number": 327
    },
    {
     "cell_type": "code",
     "collapsed": false,
     "input": [
      "(e2/e2.norm(2)).evalf() # Pretty much the same this as with the power iteration, but in the other direction"
     ],
     "language": "python",
     "metadata": {},
     "outputs": [
      {
       "latex": [
        "$$\\left[\\begin{matrix}-0.886340262175299\\\\-0.247502346105488\\\\0.391335569964323\\end{matrix}\\right]$$"
       ],
       "metadata": {},
       "output_type": "pyout",
       "prompt_number": 330,
       "text": [
        "\u23a1-0.886340262175299\u23a4\n",
        "\u23a2                  \u23a5\n",
        "\u23a2-0.247502346105488\u23a5\n",
        "\u23a2                  \u23a5\n",
        "\u23a30.391335569964323 \u23a6"
       ]
      }
     ],
     "prompt_number": 330
    },
    {
     "cell_type": "code",
     "collapsed": false,
     "input": [
      "eigenvalue2"
     ],
     "language": "python",
     "metadata": {},
     "outputs": [
      {
       "latex": [
        "$$0.837722345665253$$"
       ],
       "metadata": {},
       "output_type": "pyout",
       "png": "[encoded data removed]",
       "prompt_number": 326,
       "text": [
        "0.837722345665253"
       ]
      }
     ],
     "prompt_number": 326
    },
    {
     "cell_type": "code",
     "collapsed": false,
     "input": [
      "l2.evalf()"
     ],
     "language": "python",
     "metadata": {},
     "outputs": [
      {
       "latex": [
        "$$0.837722339831621$$"
       ],
       "metadata": {},
       "output_type": "pyout",
       "png": "[encoded data removed]",
       "prompt_number": 328,
       "text": [
        "0.837722339831621"
       ]
      }
     ],
     "prompt_number": 328
    },
    {
     "cell_type": "markdown",
     "metadata": {},
     "source": [
      "(e)"
     ]
    },
    {
     "cell_type": "code",
     "collapsed": false,
     "input": [
      "M3 = M2 - eigenvalue2 * eigenvector2 * eigenvector2.transpose()"
     ],
     "language": "python",
     "metadata": {},
     "outputs": [],
     "prompt_number": 331
    },
    {
     "cell_type": "code",
     "collapsed": false,
     "input": [
      "M3 #That's pretty darn close to zero"
     ],
     "language": "python",
     "metadata": {},
     "outputs": [
      {
       "latex": [
        "$$\\left[\\begin{matrix}-2.46071385490154 \\cdot 10^{-10} & -5.87290355236192 \\cdot 10^{-10} & -9.28509158448776 \\cdot 10^{-10}\\\\-5.87290327480616 \\cdot 10^{-10} & -1.40166622752957 \\cdot 10^{-9} & -2.21604207206738 \\cdot 10^{-9}\\\\-9.28509158448776 \\cdot 10^{-10} & -2.21604207206738 \\cdot 10^{-9} & -3.50357459710793 \\cdot 10^{-9}\\end{matrix}\\right]$$"
       ],
       "metadata": {},
       "output_type": "pyout",
       "prompt_number": 335,
       "text": [
        "\u23a1-2.46071385490154e-10  -5.87290355236192e-10  -9.28509158448776e-10\u23a4\n",
        "\u23a2                                                                   \u23a5\n",
        "\u23a2-5.87290327480616e-10  -1.40166622752957e-9   -2.21604207206738e-9 \u23a5\n",
        "\u23a2                                                                   \u23a5\n",
        "\u23a3-9.28509158448776e-10  -2.21604207206738e-9   -3.50357459710793e-9 \u23a6"
       ]
      }
     ],
     "prompt_number": 335
    },
    {
     "cell_type": "markdown",
     "metadata": {},
     "source": [
      "**Exercise 11.1.7** : Repeat Exercise 11.1.6 for the matrix of Exercise 11.1.5."
     ]
    },
    {
     "cell_type": "code",
     "collapsed": false,
     "input": [
      "eigenvector, eigenvalue = power_iteration(matrix_11_1_5, Matrix([1,1,1]), 0.0001)"
     ],
     "language": "python",
     "metadata": {},
     "outputs": [],
     "prompt_number": 336
    },
    {
     "cell_type": "code",
     "collapsed": false,
     "input": [
      "M2 = matrix_11_1_5 - eigenvalue * eigenvector * eigenvector.transpose()"
     ],
     "language": "python",
     "metadata": {},
     "outputs": [],
     "prompt_number": 337
    },
    {
     "cell_type": "code",
     "collapsed": false,
     "input": [
      "eigenvector2, eigenvalue2 = power_iteration(M2, Matrix([1,1,1]), 0.0001)"
     ],
     "language": "python",
     "metadata": {},
     "outputs": [],
     "prompt_number": 338
    },
    {
     "cell_type": "code",
     "collapsed": false,
     "input": [
      "eigenvalue"
     ],
     "language": "python",
     "metadata": {},
     "outputs": [
      {
       "latex": [
        "$$7.87298334617272$$"
       ],
       "metadata": {},
       "output_type": "pyout",
       "png": "[encoded data removed]",
       "prompt_number": 339,
       "text": [
        "7.87298334617272"
       ]
      }
     ],
     "prompt_number": 339
    },
    {
     "cell_type": "code",
     "collapsed": false,
     "input": [
      "eigenvalue2"
     ],
     "language": "python",
     "metadata": {},
     "outputs": [
      {
       "latex": [
        "$$1.00000000026634$$"
       ],
       "metadata": {},
       "output_type": "pyout",
       "png": "[encoded data removed]",
       "prompt_number": 340,
       "text": [
        "1.00000000026634"
       ]
      }
     ],
     "prompt_number": 340
    },
    {
     "cell_type": "code",
     "collapsed": false,
     "input": [],
     "language": "python",
     "metadata": {},
     "outputs": []
    }
   ],
   "metadata": {}
  }
 ]
}