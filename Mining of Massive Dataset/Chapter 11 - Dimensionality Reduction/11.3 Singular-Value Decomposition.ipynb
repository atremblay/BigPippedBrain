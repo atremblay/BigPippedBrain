{
 "metadata": {
  "name": "",
  "signature": "sha256:77218c67a588f40d69879a7197c96b662ebba18e54aae9b9c8a1219d212b57b4"
 },
 "nbformat": 3,
 "nbformat_minor": 0,
 "worksheets": [
  {
   "cells": [
    {
     "cell_type": "code",
     "collapsed": false,
     "input": [
      "import sympy as sy\n",
      "from sympy import solve_linear_system\n",
      "from sympy.matrices import Matrix, eye, zeros\n",
      "import numpy as np"
     ],
     "language": "python",
     "metadata": {},
     "outputs": [],
     "prompt_number": 1
    },
    {
     "cell_type": "code",
     "collapsed": false,
     "input": [
      "sy.init_printing(use_latex='mathjax')"
     ],
     "language": "python",
     "metadata": {},
     "outputs": [],
     "prompt_number": 4
    },
    {
     "cell_type": "markdown",
     "metadata": {},
     "source": [
      "**Exercise 11.3.1** : In Fig. 11.11 is a matrix M . It has rank 2, as you can see by observing that the first column plus the third column minus twice the second column equals 0."
     ]
    },
    {
     "cell_type": "code",
     "collapsed": false,
     "input": [
      "M = Matrix([[1,2,3],[3,4,5],[5,4,3],[0,2,4],[1,3,5]])\n",
      "M"
     ],
     "language": "python",
     "metadata": {},
     "outputs": [
      {
       "latex": [
        "$$\\left[\\begin{matrix}1 & 2 & 3\\\\3 & 4 & 5\\\\5 & 4 & 3\\\\0 & 2 & 4\\\\1 & 3 & 5\\end{matrix}\\right]$$"
       ],
       "metadata": {},
       "output_type": "pyout",
       "prompt_number": 5,
       "text": [
        "\u23a11  2  3\u23a4\n",
        "\u23a2       \u23a5\n",
        "\u23a23  4  5\u23a5\n",
        "\u23a2       \u23a5\n",
        "\u23a25  4  3\u23a5\n",
        "\u23a2       \u23a5\n",
        "\u23a20  2  4\u23a5\n",
        "\u23a2       \u23a5\n",
        "\u23a31  3  5\u23a6"
       ]
      }
     ],
     "prompt_number": 5
    },
    {
     "cell_type": "markdown",
     "metadata": {},
     "source": [
      "**(a)** Compute the matrices MTM and MMT."
     ]
    },
    {
     "cell_type": "code",
     "collapsed": false,
     "input": [
      "MTM = M.transpose()*M\n",
      "MTM"
     ],
     "language": "python",
     "metadata": {},
     "outputs": [
      {
       "latex": [
        "$$\\left[\\begin{matrix}36 & 37 & 38\\\\37 & 49 & 61\\\\38 & 61 & 84\\end{matrix}\\right]$$"
       ],
       "metadata": {},
       "output_type": "pyout",
       "prompt_number": 8,
       "text": [
        "\u23a136  37  38\u23a4\n",
        "\u23a2          \u23a5\n",
        "\u23a237  49  61\u23a5\n",
        "\u23a2          \u23a5\n",
        "\u23a338  61  84\u23a6"
       ]
      }
     ],
     "prompt_number": 8
    },
    {
     "cell_type": "code",
     "collapsed": false,
     "input": [
      "MMT = M*M.transpose()\n",
      "MMT"
     ],
     "language": "python",
     "metadata": {},
     "outputs": [
      {
       "latex": [
        "$$\\left[\\begin{matrix}14 & 26 & 22 & 16 & 22\\\\26 & 50 & 46 & 28 & 40\\\\22 & 46 & 50 & 20 & 32\\\\16 & 28 & 20 & 20 & 26\\\\22 & 40 & 32 & 26 & 35\\end{matrix}\\right]$$"
       ],
       "metadata": {},
       "output_type": "pyout",
       "prompt_number": 9,
       "text": [
        "\u23a114  26  22  16  22\u23a4\n",
        "\u23a2                  \u23a5\n",
        "\u23a226  50  46  28  40\u23a5\n",
        "\u23a2                  \u23a5\n",
        "\u23a222  46  50  20  32\u23a5\n",
        "\u23a2                  \u23a5\n",
        "\u23a216  28  20  20  26\u23a5\n",
        "\u23a2                  \u23a5\n",
        "\u23a322  40  32  26  35\u23a6"
       ]
      }
     ],
     "prompt_number": 9
    },
    {
     "cell_type": "markdown",
     "metadata": {},
     "source": [
      "**(b)** Find the eigenvalues for your matrices of part (a)."
     ]
    },
    {
     "cell_type": "code",
     "collapsed": false,
     "input": [
      "l = sy.Symbol('lambda', real=True)"
     ],
     "language": "python",
     "metadata": {},
     "outputs": [],
     "prompt_number": 10
    },
    {
     "cell_type": "code",
     "collapsed": false,
     "input": [
      "MTM_eigval = sy.solve((MTM - l*eye(3)).det(),l)\n",
      "MTM_eigval.sort(reverse=True)\n",
      "MTM_eigval"
     ],
     "language": "python",
     "metadata": {},
     "outputs": [
      {
       "latex": [
        "$$\\begin{bmatrix}\\frac{\\sqrt{19081}}{2} + \\frac{169}{2}, & - \\frac{\\sqrt{19081}}{2} + \\frac{169}{2}, & 0\\end{bmatrix}$$"
       ],
       "metadata": {},
       "output_type": "pyout",
       "prompt_number": 62,
       "text": [
        "\u23a1  _______            _______         \u23a4\n",
        "\u23a2\u2572\u2571 19081    169    \u2572\u2571 19081    169   \u23a5\n",
        "\u23a2\u2500\u2500\u2500\u2500\u2500\u2500\u2500\u2500\u2500 + \u2500\u2500\u2500, - \u2500\u2500\u2500\u2500\u2500\u2500\u2500\u2500\u2500 + \u2500\u2500\u2500, 0\u23a5\n",
        "\u23a3    2        2         2        2    \u23a6"
       ]
      }
     ],
     "prompt_number": 62
    },
    {
     "cell_type": "code",
     "collapsed": false,
     "input": [
      "MMT_eigval = sy.solve((MMT - l*eye(5)).det(),l)\n",
      "MMT_eigval.sort(reverse=True)\n",
      "MMT_eigval"
     ],
     "language": "python",
     "metadata": {},
     "outputs": [
      {
       "latex": [
        "$$\\begin{bmatrix}\\frac{\\sqrt{19081}}{2} + \\frac{169}{2}, & - \\frac{\\sqrt{19081}}{2} + \\frac{169}{2}, & 0\\end{bmatrix}$$"
       ],
       "metadata": {},
       "output_type": "pyout",
       "prompt_number": 61,
       "text": [
        "\u23a1  _______            _______         \u23a4\n",
        "\u23a2\u2572\u2571 19081    169    \u2572\u2571 19081    169   \u23a5\n",
        "\u23a2\u2500\u2500\u2500\u2500\u2500\u2500\u2500\u2500\u2500 + \u2500\u2500\u2500, - \u2500\u2500\u2500\u2500\u2500\u2500\u2500\u2500\u2500 + \u2500\u2500\u2500, 0\u23a5\n",
        "\u23a3    2        2         2        2    \u23a6"
       ]
      }
     ],
     "prompt_number": 61
    },
    {
     "cell_type": "code",
     "collapsed": false,
     "input": [
      "# Amazing! Who could have predicted that they would be the same when it's clearly stated at page 417"
     ],
     "language": "python",
     "metadata": {},
     "outputs": [],
     "prompt_number": 17
    },
    {
     "cell_type": "markdown",
     "metadata": {},
     "source": [
      "**(c)** Find the eigenvectors for the matrices of part (a)."
     ]
    },
    {
     "cell_type": "code",
     "collapsed": false,
     "input": [
      "vects = sorted(MTM.eigenvects(), key=lambda x: x[0], reverse=True)\n",
      "vects = [v[2][0].evalf() for v in vects if v[0] != 0]\n",
      "MTM_unit_vects = [v/v.norm(2) for v in vects]\n",
      "MTM_unit_vects"
     ],
     "language": "python",
     "metadata": {},
     "outputs": [
      {
       "latex": [
        "$$\\begin{bmatrix}\\left[\\begin{matrix}0.409282849594866\\\\0.56345932401811\\\\0.717635798441355\\end{matrix}\\right], & \\left[\\begin{matrix}-0.815978481555022\\\\-0.12588456422607\\\\0.564209353102882\\end{matrix}\\right]\\end{bmatrix}$$"
       ],
       "metadata": {},
       "output_type": "pyout",
       "prompt_number": 65,
       "text": [
        "\u23a1\u23a10.409282849594866\u23a4, \u23a1-0.815978481555022\u23a4\u23a4\n",
        "\u23a2\u23a2                 \u23a5  \u23a2                  \u23a5\u23a5\n",
        "\u23a2\u23a20.56345932401811 \u23a5  \u23a2-0.12588456422607 \u23a5\u23a5\n",
        "\u23a2\u23a2                 \u23a5  \u23a2                  \u23a5\u23a5\n",
        "\u23a3\u23a30.717635798441355\u23a6  \u23a30.564209353102882 \u23a6\u23a6"
       ]
      }
     ],
     "prompt_number": 65
    },
    {
     "cell_type": "code",
     "collapsed": false,
     "input": [
      "vects = sorted(MMT.eigenvects(), key=lambda x: x[0], reverse=True)\n",
      "vects = [v[2][0].evalf() for v in vects if v[0] != 0]\n",
      "MMT_unit_vects = [v/v.norm(2) for v in vects]\n",
      "MMT_unit_vects"
     ],
     "language": "python",
     "metadata": {},
     "outputs": [
      {
       "latex": [
        "$$\\begin{bmatrix}\\left[\\begin{matrix}0.297695678025794\\\\0.570508561088988\\\\0.520742971163787\\\\0.322578472988394\\\\0.458984914519991\\end{matrix}\\right], & \\left[\\begin{matrix}0.159063930284883\\\\-0.0332003042935722\\\\-0.73585663402025\\\\0.510392095148223\\\\0.414259977858995\\end{matrix}\\right]\\end{bmatrix}$$"
       ],
       "metadata": {},
       "output_type": "pyout",
       "prompt_number": 66,
       "text": [
        "\u23a1\u23a10.297695678025794\u23a4, \u23a1 0.159063930284883 \u23a4\u23a4\n",
        "\u23a2\u23a2                 \u23a5  \u23a2                   \u23a5\u23a5\n",
        "\u23a2\u23a20.570508561088988\u23a5  \u23a2-0.0332003042935722\u23a5\u23a5\n",
        "\u23a2\u23a2                 \u23a5  \u23a2                   \u23a5\u23a5\n",
        "\u23a2\u23a20.520742971163787\u23a5  \u23a2 -0.73585663402025 \u23a5\u23a5\n",
        "\u23a2\u23a2                 \u23a5  \u23a2                   \u23a5\u23a5\n",
        "\u23a2\u23a20.322578472988394\u23a5  \u23a2 0.510392095148223 \u23a5\u23a5\n",
        "\u23a2\u23a2                 \u23a5  \u23a2                   \u23a5\u23a5\n",
        "\u23a3\u23a30.458984914519991\u23a6  \u23a3 0.414259977858995 \u23a6\u23a6"
       ]
      }
     ],
     "prompt_number": 66
    },
    {
     "cell_type": "markdown",
     "metadata": {},
     "source": [
      "**(d)** Find the SVD for the original matrix M from parts (b) and (c). Note that there are only two nonzero eigenvalues, so your matrix \u03a3 should have only two singular values, while U and V have only two columns."
     ]
    },
    {
     "cell_type": "markdown",
     "metadata": {},
     "source": [
      "$M^TMV = V\\Sigma^2$, $V$ is the eigen matrix of $M^TM$"
     ]
    },
    {
     "cell_type": "markdown",
     "metadata": {},
     "source": [
      "$MM^TU = U\\Sigma^2$, $U$ is the eigen matrix of $MM^T$"
     ]
    },
    {
     "cell_type": "code",
     "collapsed": false,
     "input": [
      "V = MTM_unit_vects[0].row_join(MTM_unit_vects[1])\n",
      "U = MMT_unit_vects[0].row_join(MMT_unit_vects[1])"
     ],
     "language": "python",
     "metadata": {},
     "outputs": [],
     "prompt_number": 67
    },
    {
     "cell_type": "code",
     "collapsed": false,
     "input": [
      "V"
     ],
     "language": "python",
     "metadata": {},
     "outputs": [
      {
       "latex": [
        "$$\\left[\\begin{matrix}0.409282849594866 & -0.815978481555022\\\\0.56345932401811 & -0.12588456422607\\\\0.717635798441355 & 0.564209353102882\\end{matrix}\\right]$$"
       ],
       "metadata": {},
       "output_type": "pyout",
       "prompt_number": 68,
       "text": [
        "\u23a10.409282849594866  -0.815978481555022\u23a4\n",
        "\u23a2                                     \u23a5\n",
        "\u23a20.56345932401811   -0.12588456422607 \u23a5\n",
        "\u23a2                                     \u23a5\n",
        "\u23a30.717635798441355  0.564209353102882 \u23a6"
       ]
      }
     ],
     "prompt_number": 68
    },
    {
     "cell_type": "code",
     "collapsed": false,
     "input": [
      "U"
     ],
     "language": "python",
     "metadata": {},
     "outputs": [
      {
       "latex": [
        "$$\\left[\\begin{matrix}0.297695678025794 & 0.159063930284883\\\\0.570508561088988 & -0.0332003042935722\\\\0.520742971163787 & -0.73585663402025\\\\0.322578472988394 & 0.510392095148223\\\\0.458984914519991 & 0.414259977858995\\end{matrix}\\right]$$"
       ],
       "metadata": {},
       "output_type": "pyout",
       "prompt_number": 69,
       "text": [
        "\u23a10.297695678025794   0.159063930284883 \u23a4\n",
        "\u23a2                                      \u23a5\n",
        "\u23a20.570508561088988  -0.0332003042935722\u23a5\n",
        "\u23a2                                      \u23a5\n",
        "\u23a20.520742971163787   -0.73585663402025 \u23a5\n",
        "\u23a2                                      \u23a5\n",
        "\u23a20.322578472988394   0.510392095148223 \u23a5\n",
        "\u23a2                                      \u23a5\n",
        "\u23a30.458984914519991   0.414259977858995 \u23a6"
       ]
      }
     ],
     "prompt_number": 69
    },
    {
     "cell_type": "code",
     "collapsed": false,
     "input": [
      "sigma = sy.diag(*[(v.evalf())**0.5 for v in MMT_eigval if v != 0])"
     ],
     "language": "python",
     "metadata": {},
     "outputs": [],
     "prompt_number": 87
    },
    {
     "cell_type": "code",
     "collapsed": false,
     "input": [
      "sigma"
     ],
     "language": "python",
     "metadata": {},
     "outputs": [
      {
       "latex": [
        "$$\\left[\\begin{matrix}12.3922151554901 & 0\\\\0 & 3.9284861639111\\end{matrix}\\right]$$"
       ],
       "metadata": {},
       "output_type": "pyout",
       "prompt_number": 90,
       "text": [
        "\u23a112.3922151554901         0       \u23a4\n",
        "\u23a2                                 \u23a5\n",
        "\u23a3       0          3.9284861639111\u23a6"
       ]
      }
     ],
     "prompt_number": 90
    },
    {
     "cell_type": "code",
     "collapsed": false,
     "input": [
      "U*sigma*V.transpose()"
     ],
     "language": "python",
     "metadata": {},
     "outputs": [
      {
       "latex": [
        "$$\\left[\\begin{matrix}1.0 & 2.0 & 3.0\\\\3.0 & 4.0 & 5.0\\\\5.0 & 4.0 & 3.0\\\\4.44089209850063 \\cdot 10^{-16} & 2.0 & 4.0\\\\1.0 & 3.0 & 5.0\\end{matrix}\\right]$$"
       ],
       "metadata": {},
       "output_type": "pyout",
       "prompt_number": 88,
       "text": [
        "\u23a1        1.0           2.0  3.0\u23a4\n",
        "\u23a2                              \u23a5\n",
        "\u23a2        3.0           4.0  5.0\u23a5\n",
        "\u23a2                              \u23a5\n",
        "\u23a2        5.0           4.0  3.0\u23a5\n",
        "\u23a2                              \u23a5\n",
        "\u23a24.44089209850063e-16  2.0  4.0\u23a5\n",
        "\u23a2                              \u23a5\n",
        "\u23a3        1.0           3.0  5.0\u23a6"
       ]
      }
     ],
     "prompt_number": 88
    },
    {
     "cell_type": "code",
     "collapsed": false,
     "input": [],
     "language": "python",
     "metadata": {},
     "outputs": []
    }
   ],
   "metadata": {}
  }
 ]
}