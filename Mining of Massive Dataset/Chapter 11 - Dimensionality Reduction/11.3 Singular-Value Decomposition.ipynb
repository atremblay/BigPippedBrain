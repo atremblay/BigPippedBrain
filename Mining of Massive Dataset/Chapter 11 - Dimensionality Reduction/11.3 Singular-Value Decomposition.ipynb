{
 "cells": [
  {
   "cell_type": "markdown",
   "metadata": {},
   "source": [
    "#11.3 Singular-Value Decomposition "
   ]
  },
  {
   "cell_type": "code",
   "execution_count": 1,
   "metadata": {
    "collapsed": false
   },
   "outputs": [],
   "source": [
    "import sympy as sy\n",
    "from sympy import solve_linear_system\n",
    "from sympy.matrices import Matrix, eye, zeros\n",
    "import numpy as np"
   ]
  },
  {
   "cell_type": "code",
   "execution_count": 2,
   "metadata": {
    "collapsed": false
   },
   "outputs": [],
   "source": [
    "sy.init_printing(use_latex='mathjax')"
   ]
  },
  {
   "cell_type": "markdown",
   "metadata": {},
   "source": [
    "**Exercise 11.3.1** : In Fig. 11.11 is a matrix M . It has rank 2, as you can see by observing that the first column plus the third column minus twice the second column equals 0."
   ]
  },
  {
   "cell_type": "code",
   "execution_count": 3,
   "metadata": {
    "collapsed": false
   },
   "outputs": [
    {
     "data": {
      "text/latex": [
       "$$\\left[\\begin{matrix}1 & 2 & 3\\\\3 & 4 & 5\\\\5 & 4 & 3\\\\0 & 2 & 4\\\\1 & 3 & 5\\end{matrix}\\right]$$"
      ],
      "text/plain": [
       "⎡1  2  3⎤\n",
       "⎢       ⎥\n",
       "⎢3  4  5⎥\n",
       "⎢       ⎥\n",
       "⎢5  4  3⎥\n",
       "⎢       ⎥\n",
       "⎢0  2  4⎥\n",
       "⎢       ⎥\n",
       "⎣1  3  5⎦"
      ]
     },
     "execution_count": 3,
     "metadata": {},
     "output_type": "execute_result"
    }
   ],
   "source": [
    "M = Matrix([[1,2,3],[3,4,5],[5,4,3],[0,2,4],[1,3,5]])\n",
    "M"
   ]
  },
  {
   "cell_type": "markdown",
   "metadata": {},
   "source": [
    "**(a)** Compute the matrices MTM and MMT."
   ]
  },
  {
   "cell_type": "code",
   "execution_count": 4,
   "metadata": {
    "collapsed": false
   },
   "outputs": [
    {
     "data": {
      "text/latex": [
       "$$\\left[\\begin{matrix}36 & 37 & 38\\\\37 & 49 & 61\\\\38 & 61 & 84\\end{matrix}\\right]$$"
      ],
      "text/plain": [
       "⎡36  37  38⎤\n",
       "⎢          ⎥\n",
       "⎢37  49  61⎥\n",
       "⎢          ⎥\n",
       "⎣38  61  84⎦"
      ]
     },
     "execution_count": 4,
     "metadata": {},
     "output_type": "execute_result"
    }
   ],
   "source": [
    "MTM = M.transpose()*M\n",
    "MTM"
   ]
  },
  {
   "cell_type": "code",
   "execution_count": 5,
   "metadata": {
    "collapsed": false
   },
   "outputs": [
    {
     "data": {
      "text/latex": [
       "$$\\left[\\begin{matrix}14 & 26 & 22 & 16 & 22\\\\26 & 50 & 46 & 28 & 40\\\\22 & 46 & 50 & 20 & 32\\\\16 & 28 & 20 & 20 & 26\\\\22 & 40 & 32 & 26 & 35\\end{matrix}\\right]$$"
      ],
      "text/plain": [
       "⎡14  26  22  16  22⎤\n",
       "⎢                  ⎥\n",
       "⎢26  50  46  28  40⎥\n",
       "⎢                  ⎥\n",
       "⎢22  46  50  20  32⎥\n",
       "⎢                  ⎥\n",
       "⎢16  28  20  20  26⎥\n",
       "⎢                  ⎥\n",
       "⎣22  40  32  26  35⎦"
      ]
     },
     "execution_count": 5,
     "metadata": {},
     "output_type": "execute_result"
    }
   ],
   "source": [
    "MMT = M*M.transpose()\n",
    "MMT"
   ]
  },
  {
   "cell_type": "markdown",
   "metadata": {},
   "source": [
    "**(b)** Find the eigenvalues for your matrices of part (a)."
   ]
  },
  {
   "cell_type": "code",
   "execution_count": 6,
   "metadata": {
    "collapsed": false
   },
   "outputs": [],
   "source": [
    "l = sy.Symbol('lambda', real=True)"
   ]
  },
  {
   "cell_type": "code",
   "execution_count": 7,
   "metadata": {
    "collapsed": false
   },
   "outputs": [
    {
     "data": {
      "text/latex": [
       "$$\\left [ \\frac{\\sqrt{19081}}{2} + \\frac{169}{2}, \\quad - \\frac{\\sqrt{19081}}{2} + \\frac{169}{2}, \\quad 0\\right ]$$"
      ],
      "text/plain": [
       "⎡  _______            _______         ⎤\n",
       "⎢╲╱ 19081    169    ╲╱ 19081    169   ⎥\n",
       "⎢───────── + ───, - ───────── + ───, 0⎥\n",
       "⎣    2        2         2        2    ⎦"
      ]
     },
     "execution_count": 7,
     "metadata": {},
     "output_type": "execute_result"
    }
   ],
   "source": [
    "MTM_eigval = sy.solve((MTM - l*eye(3)).det(),l)\n",
    "MTM_eigval.sort(reverse=True)\n",
    "MTM_eigval"
   ]
  },
  {
   "cell_type": "code",
   "execution_count": 8,
   "metadata": {
    "collapsed": false
   },
   "outputs": [
    {
     "data": {
      "text/latex": [
       "$$\\left [ \\frac{\\sqrt{19081}}{2} + \\frac{169}{2}, \\quad - \\frac{\\sqrt{19081}}{2} + \\frac{169}{2}, \\quad 0\\right ]$$"
      ],
      "text/plain": [
       "⎡  _______            _______         ⎤\n",
       "⎢╲╱ 19081    169    ╲╱ 19081    169   ⎥\n",
       "⎢───────── + ───, - ───────── + ───, 0⎥\n",
       "⎣    2        2         2        2    ⎦"
      ]
     },
     "execution_count": 8,
     "metadata": {},
     "output_type": "execute_result"
    }
   ],
   "source": [
    "MMT_eigval = sy.solve((MMT - l*eye(5)).det(),l)\n",
    "MMT_eigval.sort(reverse=True)\n",
    "MMT_eigval"
   ]
  },
  {
   "cell_type": "code",
   "execution_count": 9,
   "metadata": {
    "collapsed": false
   },
   "outputs": [],
   "source": [
    "# Amazing! Who could have predicted that they would be the same when it's clearly stated at page 417"
   ]
  },
  {
   "cell_type": "markdown",
   "metadata": {},
   "source": [
    "**(c)** Find the eigenvectors for the matrices of part (a)."
   ]
  },
  {
   "cell_type": "code",
   "execution_count": 10,
   "metadata": {
    "collapsed": false
   },
   "outputs": [
    {
     "data": {
      "text/latex": [
       "$$\\left [ \\left[\\begin{matrix}0.409282849594866\\\\0.56345932401811\\\\0.717635798441355\\end{matrix}\\right], \\quad \\left[\\begin{matrix}-0.815978481555022\\\\-0.12588456422607\\\\0.564209353102882\\end{matrix}\\right]\\right ]$$"
      ],
      "text/plain": [
       "⎡⎡0.409282849594866⎤, ⎡-0.815978481555022⎤⎤\n",
       "⎢⎢                 ⎥  ⎢                  ⎥⎥\n",
       "⎢⎢0.56345932401811 ⎥  ⎢-0.12588456422607 ⎥⎥\n",
       "⎢⎢                 ⎥  ⎢                  ⎥⎥\n",
       "⎣⎣0.717635798441355⎦  ⎣0.564209353102882 ⎦⎦"
      ]
     },
     "execution_count": 10,
     "metadata": {},
     "output_type": "execute_result"
    }
   ],
   "source": [
    "vects = sorted(MTM.eigenvects(), key=lambda x: x[0], reverse=True)\n",
    "vects = [v[2][0].evalf() for v in vects if v[0] != 0]\n",
    "MTM_unit_vects = [v/v.norm(2) for v in vects]\n",
    "MTM_unit_vects"
   ]
  },
  {
   "cell_type": "code",
   "execution_count": 11,
   "metadata": {
    "collapsed": false
   },
   "outputs": [
    {
     "data": {
      "text/latex": [
       "$$\\left [ \\left[\\begin{matrix}0.297695678025794\\\\0.570508561088988\\\\0.520742971163787\\\\0.322578472988394\\\\0.458984914519991\\end{matrix}\\right], \\quad \\left[\\begin{matrix}0.159063930284883\\\\-0.0332003042935722\\\\-0.73585663402025\\\\0.510392095148223\\\\0.414259977858995\\end{matrix}\\right]\\right ]$$"
      ],
      "text/plain": [
       "⎡⎡0.297695678025794⎤, ⎡ 0.159063930284883 ⎤⎤\n",
       "⎢⎢                 ⎥  ⎢                   ⎥⎥\n",
       "⎢⎢0.570508561088988⎥  ⎢-0.0332003042935722⎥⎥\n",
       "⎢⎢                 ⎥  ⎢                   ⎥⎥\n",
       "⎢⎢0.520742971163787⎥  ⎢ -0.73585663402025 ⎥⎥\n",
       "⎢⎢                 ⎥  ⎢                   ⎥⎥\n",
       "⎢⎢0.322578472988394⎥  ⎢ 0.510392095148223 ⎥⎥\n",
       "⎢⎢                 ⎥  ⎢                   ⎥⎥\n",
       "⎣⎣0.458984914519991⎦  ⎣ 0.414259977858995 ⎦⎦"
      ]
     },
     "execution_count": 11,
     "metadata": {},
     "output_type": "execute_result"
    }
   ],
   "source": [
    "vects = sorted(MMT.eigenvects(), key=lambda x: x[0], reverse=True)\n",
    "vects = [v[2][0].evalf() for v in vects if v[0] != 0]\n",
    "MMT_unit_vects = [v/v.norm(2) for v in vects]\n",
    "MMT_unit_vects"
   ]
  },
  {
   "cell_type": "markdown",
   "metadata": {},
   "source": [
    "**(d)** Find the SVD for the original matrix M from parts (b) and (c). Note that there are only two nonzero eigenvalues, so your matrix Σ should have only two singular values, while U and V have only two columns."
   ]
  },
  {
   "cell_type": "markdown",
   "metadata": {},
   "source": [
    "$M^TMV = V\\Sigma^2$, $V$ is the eigen matrix of $M^TM$"
   ]
  },
  {
   "cell_type": "markdown",
   "metadata": {},
   "source": [
    "$MM^TU = U\\Sigma^2$, $U$ is the eigen matrix of $MM^T$"
   ]
  },
  {
   "cell_type": "code",
   "execution_count": 12,
   "metadata": {
    "collapsed": false
   },
   "outputs": [],
   "source": [
    "V = MTM_unit_vects[0].row_join(MTM_unit_vects[1])\n",
    "U = MMT_unit_vects[0].row_join(MMT_unit_vects[1])"
   ]
  },
  {
   "cell_type": "code",
   "execution_count": 13,
   "metadata": {
    "collapsed": false
   },
   "outputs": [
    {
     "data": {
      "text/latex": [
       "$$\\left[\\begin{matrix}0.409282849594866 & -0.815978481555022\\\\0.56345932401811 & -0.12588456422607\\\\0.717635798441355 & 0.564209353102882\\end{matrix}\\right]$$"
      ],
      "text/plain": [
       "⎡0.409282849594866  -0.815978481555022⎤\n",
       "⎢                                     ⎥\n",
       "⎢0.56345932401811   -0.12588456422607 ⎥\n",
       "⎢                                     ⎥\n",
       "⎣0.717635798441355  0.564209353102882 ⎦"
      ]
     },
     "execution_count": 13,
     "metadata": {},
     "output_type": "execute_result"
    }
   ],
   "source": [
    "V"
   ]
  },
  {
   "cell_type": "code",
   "execution_count": 14,
   "metadata": {
    "collapsed": false
   },
   "outputs": [
    {
     "data": {
      "text/latex": [
       "$$\\left[\\begin{matrix}0.297695678025794 & 0.159063930284883\\\\0.570508561088988 & -0.0332003042935722\\\\0.520742971163787 & -0.73585663402025\\\\0.322578472988394 & 0.510392095148223\\\\0.458984914519991 & 0.414259977858995\\end{matrix}\\right]$$"
      ],
      "text/plain": [
       "⎡0.297695678025794   0.159063930284883 ⎤\n",
       "⎢                                      ⎥\n",
       "⎢0.570508561088988  -0.0332003042935722⎥\n",
       "⎢                                      ⎥\n",
       "⎢0.520742971163787   -0.73585663402025 ⎥\n",
       "⎢                                      ⎥\n",
       "⎢0.322578472988394   0.510392095148223 ⎥\n",
       "⎢                                      ⎥\n",
       "⎣0.458984914519991   0.414259977858995 ⎦"
      ]
     },
     "execution_count": 14,
     "metadata": {},
     "output_type": "execute_result"
    }
   ],
   "source": [
    "U"
   ]
  },
  {
   "cell_type": "code",
   "execution_count": 15,
   "metadata": {
    "collapsed": false
   },
   "outputs": [],
   "source": [
    "sigma = sy.diag(*[(v.evalf())**0.5 for v in MMT_eigval if v != 0])"
   ]
  },
  {
   "cell_type": "code",
   "execution_count": 16,
   "metadata": {
    "collapsed": false
   },
   "outputs": [
    {
     "data": {
      "text/latex": [
       "$$\\left[\\begin{matrix}12.3922151554901 & 0\\\\0 & 3.9284861639111\\end{matrix}\\right]$$"
      ],
      "text/plain": [
       "⎡12.3922151554901         0       ⎤\n",
       "⎢                                 ⎥\n",
       "⎣       0          3.9284861639111⎦"
      ]
     },
     "execution_count": 16,
     "metadata": {},
     "output_type": "execute_result"
    }
   ],
   "source": [
    "sigma"
   ]
  },
  {
   "cell_type": "code",
   "execution_count": 17,
   "metadata": {
    "collapsed": false
   },
   "outputs": [
    {
     "data": {
      "text/latex": [
       "$$\\left[\\begin{matrix}1.0 & 2.0 & 3.0\\\\3.0 & 4.0 & 5.0\\\\5.0 & 4.0 & 3.0\\\\4.44089209850063 \\cdot 10^{-16} & 2.0 & 4.0\\\\1.0 & 3.0 & 5.0\\end{matrix}\\right]$$"
      ],
      "text/plain": [
       "⎡        1.0           2.0  3.0⎤\n",
       "⎢                              ⎥\n",
       "⎢        3.0           4.0  5.0⎥\n",
       "⎢                              ⎥\n",
       "⎢        5.0           4.0  3.0⎥\n",
       "⎢                              ⎥\n",
       "⎢4.44089209850063e-16  2.0  4.0⎥\n",
       "⎢                              ⎥\n",
       "⎣        1.0           3.0  5.0⎦"
      ]
     },
     "execution_count": 17,
     "metadata": {},
     "output_type": "execute_result"
    }
   ],
   "source": [
    "U*sigma*V.transpose()"
   ]
  },
  {
   "cell_type": "code",
   "execution_count": null,
   "metadata": {
    "collapsed": false
   },
   "outputs": [],
   "source": []
  }
 ],
 "metadata": {
  "kernelspec": {
   "display_name": "Python 3",
   "language": "python",
   "name": "python3"
  },
  "language_info": {
   "codemirror_mode": {
    "name": "ipython",
    "version": 3
   },
   "file_extension": ".py",
   "mimetype": "text/x-python",
   "name": "python",
   "nbconvert_exporter": "python",
   "pygments_lexer": "ipython3",
   "version": "3.4.3"
  }
 },
 "nbformat": 4,
 "nbformat_minor": 0
}
