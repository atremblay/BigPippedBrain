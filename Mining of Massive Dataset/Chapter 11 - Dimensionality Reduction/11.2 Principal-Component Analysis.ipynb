{
 "metadata": {
  "name": "",
  "signature": "sha256:8529aaec7027b50b5ab0837bad78943e26612380a71f88c1dfad8fb8a8065d7b"
 },
 "nbformat": 3,
 "nbformat_minor": 0,
 "worksheets": [
  {
   "cells": [
    {
     "cell_type": "code",
     "collapsed": false,
     "input": [
      "import sympy as sy\n",
      "from sympy import solve_linear_system\n",
      "from sympy.matrices import Matrix, eye, zeros\n",
      "import numpy as np"
     ],
     "language": "python",
     "metadata": {},
     "outputs": [],
     "prompt_number": 172
    },
    {
     "cell_type": "code",
     "collapsed": false,
     "input": [
      "sy.init_printing()"
     ],
     "language": "python",
     "metadata": {},
     "outputs": [],
     "prompt_number": 173
    },
    {
     "cell_type": "markdown",
     "metadata": {},
     "source": [
      "**Exercise 11.2.1** : Let M be the matrix of data points \n",
      "<br>\u23a11  1\u23a4\n",
      "<br>\u23a22  4\u23a5 \n",
      "<br>\u23a23  9\u23a5\n",
      "<br>\u23a34 16\u23a6"
     ]
    },
    {
     "cell_type": "code",
     "collapsed": false,
     "input": [
      "M = Matrix([[1,1],[2,4],[3,9],[4,16]])\n",
      "M"
     ],
     "language": "python",
     "metadata": {},
     "outputs": [
      {
       "latex": [
        "$$\\left[\\begin{matrix}1 & 1\\\\2 & 4\\\\3 & 9\\\\4 & 16\\end{matrix}\\right]$$"
       ],
       "metadata": {},
       "output_type": "pyout",
       "prompt_number": 174,
       "text": [
        "\u23a11  1 \u23a4\n",
        "\u23a2     \u23a5\n",
        "\u23a22  4 \u23a5\n",
        "\u23a2     \u23a5\n",
        "\u23a23  9 \u23a5\n",
        "\u23a2     \u23a5\n",
        "\u23a34  16\u23a6"
       ]
      }
     ],
     "prompt_number": 174
    },
    {
     "cell_type": "markdown",
     "metadata": {},
     "source": [
      "(a) What are $M^T M$ and $MM^T$?"
     ]
    },
    {
     "cell_type": "code",
     "collapsed": false,
     "input": [
      "MTM = M.transpose()*M\n",
      "MTM"
     ],
     "language": "python",
     "metadata": {},
     "outputs": [
      {
       "latex": [
        "$$\\left[\\begin{matrix}30 & 100\\\\100 & 354\\end{matrix}\\right]$$"
       ],
       "metadata": {},
       "output_type": "pyout",
       "prompt_number": 175,
       "text": [
        "\u23a130   100\u23a4\n",
        "\u23a2        \u23a5\n",
        "\u23a3100  354\u23a6"
       ]
      }
     ],
     "prompt_number": 175
    },
    {
     "cell_type": "code",
     "collapsed": false,
     "input": [
      "MMT = M*M.transpose()\n",
      "MMT"
     ],
     "language": "python",
     "metadata": {},
     "outputs": [
      {
       "latex": [
        "$$\\left[\\begin{matrix}2 & 6 & 12 & 20\\\\6 & 20 & 42 & 72\\\\12 & 42 & 90 & 156\\\\20 & 72 & 156 & 272\\end{matrix}\\right]$$"
       ],
       "metadata": {},
       "output_type": "pyout",
       "prompt_number": 176,
       "text": [
        "\u23a12   6   12   20 \u23a4\n",
        "\u23a2                \u23a5\n",
        "\u23a26   20  42   72 \u23a5\n",
        "\u23a2                \u23a5\n",
        "\u23a212  42  90   156\u23a5\n",
        "\u23a2                \u23a5\n",
        "\u23a320  72  156  272\u23a6"
       ]
      }
     ],
     "prompt_number": 176
    },
    {
     "cell_type": "markdown",
     "metadata": {},
     "source": [
      "(b) Compute the eigenpairs for $M^T M$"
     ]
    },
    {
     "cell_type": "code",
     "collapsed": false,
     "input": [
      "x, y = sy.symbols('x,y', real=True)\n",
      "l = sy.Symbol('lambda', real=True)\n",
      "e = Matrix([x,y])"
     ],
     "language": "python",
     "metadata": {},
     "outputs": [],
     "prompt_number": 177
    },
    {
     "cell_type": "code",
     "collapsed": false,
     "input": [
      "eigenvalues = sy.solve((MTM - l*eye(2)).det(), l)\n",
      "eigenvalues.sort(reverse=True)\n",
      "eigenvalues"
     ],
     "language": "python",
     "metadata": {},
     "outputs": [
      {
       "latex": [
        "$$\\begin{bmatrix}2 \\sqrt{9061} + 192, & - 2 \\sqrt{9061} + 192\\end{bmatrix}$$"
       ],
       "metadata": {},
       "output_type": "pyout",
       "prompt_number": 178,
       "text": [
        "\u23a1    ______              ______      \u23a4\n",
        "\u23a32\u22c5\u2572\u2571 9061  + 192, - 2\u22c5\u2572\u2571 9061  + 192\u23a6"
       ]
      }
     ],
     "prompt_number": 178
    },
    {
     "cell_type": "markdown",
     "metadata": {},
     "source": [
      "Starting with the biggest eigenvalue, let's find the corresponding eigenvector"
     ]
    },
    {
     "cell_type": "code",
     "collapsed": false,
     "input": [
      "for i, eigenvalue in enumerate(eigenvalues):\n",
      "    print('Eigenvalue {}: {}'.format(i, eigenvalue))\n",
      "    values = sy.solve((MTM - eigenvalues[0]*eye(2))*e, [x,y])\n",
      "    print(\"\\tLinear equation system: {}\".format(values))\n",
      "    for symbol, val in values.items():\n",
      "        print(\"\\t\\tFree symbol(s) of {}: {}\".format(symbol, val.free_symbols))"
     ],
     "language": "python",
     "metadata": {},
     "outputs": [
      {
       "output_type": "stream",
       "stream": "stdout",
       "text": [
        "Eigenvalue 0: 2*sqrt(9061) + 192\n",
        "\tLinear equation system: {x: -81*y/50 + sqrt(9061)*y/50}"
       ]
      },
      {
       "output_type": "stream",
       "stream": "stdout",
       "text": [
        "\n",
        "\t\tFree symbol(s) of x: {y}\n",
        "Eigenvalue 1: -2*sqrt(9061) + 192\n",
        "\tLinear equation system: {x: -81*y/50 + sqrt(9061)*y/50}"
       ]
      },
      {
       "output_type": "stream",
       "stream": "stdout",
       "text": [
        "\n",
        "\t\tFree symbol(s) of x: {y}\n"
       ]
      }
     ],
     "prompt_number": 179
    },
    {
     "cell_type": "markdown",
     "metadata": {},
     "source": [
      "In both cases $y$ is a free parameter. Let's set them to 1"
     ]
    },
    {
     "cell_type": "code",
     "collapsed": false,
     "input": [
      "e21 = 1\n",
      "e22 = 1"
     ],
     "language": "python",
     "metadata": {},
     "outputs": [],
     "prompt_number": 180
    },
    {
     "cell_type": "code",
     "collapsed": false,
     "input": [
      "e1 = Matrix([sy.solve((MTM - eigenvalues[0]*eye(2))*e, [x,y])[x].subs(y, 1).evalf(), 1])\n",
      "e2 = Matrix([sy.solve((MTM - eigenvalues[1]*eye(2))*e, [x,y])[x].subs(y, 1).evalf(), 1])"
     ],
     "language": "python",
     "metadata": {},
     "outputs": [],
     "prompt_number": 181
    },
    {
     "cell_type": "code",
     "collapsed": false,
     "input": [
      "e1 = e1/e1.norm(2)\n",
      "e2 = e2/e2.norm(2)"
     ],
     "language": "python",
     "metadata": {},
     "outputs": [],
     "prompt_number": 182
    },
    {
     "cell_type": "code",
     "collapsed": false,
     "input": [
      "MTM_e2 = MTM.eigenvects()[0][2][0].evalf() # Here I took a look a saw that the biggest one was listed last\n",
      "MTM_e2 = MTM_e2/MTM_e2.norm(2)\n",
      "MTM_e1 = MTM.eigenvects()[1][2][0].evalf() # Here I took a look a saw that the biggest one was listed first\n",
      "MTM_e1 = MTM_e1/MTM_e1.norm(2)"
     ],
     "language": "python",
     "metadata": {},
     "outputs": [],
     "prompt_number": 183
    },
    {
     "cell_type": "code",
     "collapsed": false,
     "input": [
      "e1 == MTM_e1 # We're finding the same solution as sympy"
     ],
     "language": "python",
     "metadata": {},
     "outputs": [
      {
       "metadata": {},
       "output_type": "pyout",
       "prompt_number": 184,
       "text": [
        "True"
       ]
      }
     ],
     "prompt_number": 184
    },
    {
     "cell_type": "code",
     "collapsed": false,
     "input": [
      "e2 == MTM_e2"
     ],
     "language": "python",
     "metadata": {},
     "outputs": [
      {
       "metadata": {},
       "output_type": "pyout",
       "prompt_number": 185,
       "text": [
        "True"
       ]
      }
     ],
     "prompt_number": 185
    },
    {
     "cell_type": "markdown",
     "metadata": {},
     "source": [
      "**(c)** What do you expect to be the eigenvalues of $MM^T$?"
     ]
    },
    {
     "cell_type": "markdown",
     "metadata": {},
     "source": [
      "The eigenvalues do not change wether they are for $MM^T$ or $M^T M$"
     ]
    },
    {
     "cell_type": "markdown",
     "metadata": {},
     "source": [
      "**(d)** Find the eigenvectors of $MM^T$, using your eigenvalues from part (c)"
     ]
    },
    {
     "cell_type": "markdown",
     "metadata": {},
     "source": [
      "$(ME)$ will be the eigenvectors of $MM^T$ where $E$ is the matrix of eigenvectors of $M^T M$"
     ]
    },
    {
     "cell_type": "code",
     "collapsed": false,
     "input": [
      "ME = M*E\n",
      "ME_e1 = ME.col(0)/ME.col(0).norm(2)\n",
      "ME_e2 = ME.col(1)/ME.col(1).norm(2)"
     ],
     "language": "python",
     "metadata": {},
     "outputs": [],
     "prompt_number": 186
    },
    {
     "cell_type": "code",
     "collapsed": false,
     "input": [
      "# Let's just make sure\n",
      "MMT_e = MMT.eigenvects()"
     ],
     "language": "python",
     "metadata": {},
     "outputs": [],
     "prompt_number": 187
    },
    {
     "cell_type": "code",
     "collapsed": false,
     "input": [
      "MMT_e2 = MMT_e[1][2][0].evalf()\n",
      "MMT_e2 = MMT_e2/MMT_e2.norm(2)\n",
      "MMT_e1 = MMT_e[2][2][0].evalf()\n",
      "MMT_e1 = MMT_e1/MMT_e1.norm(2)"
     ],
     "language": "python",
     "metadata": {},
     "outputs": [],
     "prompt_number": 188
    },
    {
     "cell_type": "code",
     "collapsed": false,
     "input": [
      "MMT_e1 - ME_e1 # Close enough to zero"
     ],
     "language": "python",
     "metadata": {},
     "outputs": [
      {
       "latex": [
        "$$\\left[\\begin{matrix}2.77555756156289 \\cdot 10^{-17}\\\\5.55111512312578 \\cdot 10^{-17}\\\\1.11022302462516 \\cdot 10^{-16}\\\\1.11022302462516 \\cdot 10^{-16}\\end{matrix}\\right]$$"
       ],
       "metadata": {},
       "output_type": "pyout",
       "prompt_number": 189,
       "text": [
        "\u23a12.77555756156289e-17\u23a4\n",
        "\u23a2                    \u23a5\n",
        "\u23a25.55111512312578e-17\u23a5\n",
        "\u23a2                    \u23a5\n",
        "\u23a21.11022302462516e-16\u23a5\n",
        "\u23a2                    \u23a5\n",
        "\u23a31.11022302462516e-16\u23a6"
       ]
      }
     ],
     "prompt_number": 189
    },
    {
     "cell_type": "code",
     "collapsed": false,
     "input": [
      "MMT_e2 - ME_e2 # Close enough to zero"
     ],
     "language": "python",
     "metadata": {},
     "outputs": [
      {
       "latex": [
        "$$\\left[\\begin{matrix}0\\\\0\\\\1.11022302462516 \\cdot 10^{-16}\\\\0\\end{matrix}\\right]$$"
       ],
       "metadata": {},
       "output_type": "pyout",
       "prompt_number": 190,
       "text": [
        "\u23a1         0          \u23a4\n",
        "\u23a2                    \u23a5\n",
        "\u23a2         0          \u23a5\n",
        "\u23a2                    \u23a5\n",
        "\u23a21.11022302462516e-16\u23a5\n",
        "\u23a2                    \u23a5\n",
        "\u23a3         0          \u23a6"
       ]
      }
     ],
     "prompt_number": 190
    },
    {
     "cell_type": "markdown",
     "metadata": {},
     "source": [
      "**Exercise 11.2.2**: Prove that if M is any matrix, then $M^T M$ and $MM^T$ are\n",
      "symmetric."
     ]
    },
    {
     "cell_type": "markdown",
     "metadata": {},
     "source": [
      "Blah blah blah. Demo."
     ]
    },
    {
     "cell_type": "code",
     "collapsed": false,
     "input": [
      "a11, a12, a21, a22, a31, a32 = sy.symbols('a11, a12, a21, a22, a31, a32')\n",
      "M = Matrix([[a11, a21, a31], [a12, a22, a32]])\n",
      "M"
     ],
     "language": "python",
     "metadata": {},
     "outputs": [
      {
       "latex": [
        "$$\\left[\\begin{matrix}a_{11} & a_{21} & a_{31}\\\\a_{12} & a_{22} & a_{32}\\end{matrix}\\right]$$"
       ],
       "metadata": {},
       "output_type": "pyout",
       "prompt_number": 191,
       "text": [
        "\u23a1a\u2081\u2081  a\u2082\u2081  a\u2083\u2081\u23a4\n",
        "\u23a2             \u23a5\n",
        "\u23a3a\u2081\u2082  a\u2082\u2082  a\u2083\u2082\u23a6"
       ]
      }
     ],
     "prompt_number": 191
    },
    {
     "cell_type": "code",
     "collapsed": false,
     "input": [
      "M.transpose()*M"
     ],
     "language": "python",
     "metadata": {},
     "outputs": [
      {
       "latex": [
        "$$\\left[\\begin{matrix}a_{11}^{2} + a_{12}^{2} & a_{11} a_{21} + a_{12} a_{22} & a_{11} a_{31} + a_{12} a_{32}\\\\a_{11} a_{21} + a_{12} a_{22} & a_{21}^{2} + a_{22}^{2} & a_{21} a_{31} + a_{22} a_{32}\\\\a_{11} a_{31} + a_{12} a_{32} & a_{21} a_{31} + a_{22} a_{32} & a_{31}^{2} + a_{32}^{2}\\end{matrix}\\right]$$"
       ],
       "metadata": {},
       "output_type": "pyout",
       "prompt_number": 192,
       "text": [
        "\u23a1      2      2                                         \u23a4\n",
        "\u23a2   a\u2081\u2081  + a\u2081\u2082      a\u2081\u2081\u22c5a\u2082\u2081 + a\u2081\u2082\u22c5a\u2082\u2082  a\u2081\u2081\u22c5a\u2083\u2081 + a\u2081\u2082\u22c5a\u2083\u2082\u23a5\n",
        "\u23a2                                                       \u23a5\n",
        "\u23a2                         2      2                      \u23a5\n",
        "\u23a2a\u2081\u2081\u22c5a\u2082\u2081 + a\u2081\u2082\u22c5a\u2082\u2082     a\u2082\u2081  + a\u2082\u2082      a\u2082\u2081\u22c5a\u2083\u2081 + a\u2082\u2082\u22c5a\u2083\u2082\u23a5\n",
        "\u23a2                                                       \u23a5\n",
        "\u23a2                                            2      2   \u23a5\n",
        "\u23a3a\u2081\u2081\u22c5a\u2083\u2081 + a\u2081\u2082\u22c5a\u2083\u2082  a\u2082\u2081\u22c5a\u2083\u2081 + a\u2082\u2082\u22c5a\u2083\u2082     a\u2083\u2081  + a\u2083\u2082    \u23a6"
       ]
      }
     ],
     "prompt_number": 192
    },
    {
     "cell_type": "code",
     "collapsed": false,
     "input": [
      "M*M.transpose()"
     ],
     "language": "python",
     "metadata": {},
     "outputs": [
      {
       "latex": [
        "$$\\left[\\begin{matrix}a_{11}^{2} + a_{21}^{2} + a_{31}^{2} & a_{11} a_{12} + a_{21} a_{22} + a_{31} a_{32}\\\\a_{11} a_{12} + a_{21} a_{22} + a_{31} a_{32} & a_{12}^{2} + a_{22}^{2} + a_{32}^{2}\\end{matrix}\\right]$$"
       ],
       "metadata": {},
       "output_type": "pyout",
       "prompt_number": 193,
       "text": [
        "\u23a1       2      2      2                                  \u23a4\n",
        "\u23a2    a\u2081\u2081  + a\u2082\u2081  + a\u2083\u2081        a\u2081\u2081\u22c5a\u2081\u2082 + a\u2082\u2081\u22c5a\u2082\u2082 + a\u2083\u2081\u22c5a\u2083\u2082\u23a5\n",
        "\u23a2                                                        \u23a5\n",
        "\u23a2                                    2      2      2     \u23a5\n",
        "\u23a3a\u2081\u2081\u22c5a\u2081\u2082 + a\u2082\u2081\u22c5a\u2082\u2082 + a\u2083\u2081\u22c5a\u2083\u2082      a\u2081\u2082  + a\u2082\u2082  + a\u2083\u2082      \u23a6"
       ]
      }
     ],
     "prompt_number": 193
    },
    {
     "cell_type": "markdown",
     "metadata": {},
     "source": [
      "$m_{ij} = m_{ji}$ because the rows become the columns and the columns, the rows."
     ]
    },
    {
     "cell_type": "code",
     "collapsed": false,
     "input": [],
     "language": "python",
     "metadata": {},
     "outputs": []
    }
   ],
   "metadata": {}
  }
 ]
}