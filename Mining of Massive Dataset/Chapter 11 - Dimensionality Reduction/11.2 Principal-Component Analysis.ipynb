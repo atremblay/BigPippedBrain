{
 "cells": [
  {
   "cell_type": "markdown",
   "metadata": {},
   "source": [
    "#11.2 Principal-Component Analysis "
   ]
  },
  {
   "cell_type": "code",
   "execution_count": 1,
   "metadata": {
    "collapsed": false
   },
   "outputs": [],
   "source": [
    "import sympy as sy\n",
    "from sympy import solve_linear_system\n",
    "from sympy.matrices import Matrix, eye, zeros\n",
    "import numpy as np"
   ]
  },
  {
   "cell_type": "code",
   "execution_count": 2,
   "metadata": {
    "collapsed": false
   },
   "outputs": [],
   "source": [
    "sy.init_printing(use_latex='mathjax')"
   ]
  },
  {
   "cell_type": "markdown",
   "metadata": {},
   "source": [
    "**Exercise 11.2.1** : Let M be the matrix of data points"
   ]
  },
  {
   "cell_type": "code",
   "execution_count": 3,
   "metadata": {
    "collapsed": false
   },
   "outputs": [
    {
     "data": {
      "text/latex": [
       "$$\\left[\\begin{matrix}1 & 1\\\\2 & 4\\\\3 & 9\\\\4 & 16\\end{matrix}\\right]$$"
      ],
      "text/plain": [
       "⎡1  1 ⎤\n",
       "⎢     ⎥\n",
       "⎢2  4 ⎥\n",
       "⎢     ⎥\n",
       "⎢3  9 ⎥\n",
       "⎢     ⎥\n",
       "⎣4  16⎦"
      ]
     },
     "execution_count": 3,
     "metadata": {},
     "output_type": "execute_result"
    }
   ],
   "source": [
    "M = Matrix([[1,1],[2,4],[3,9],[4,16]])\n",
    "M"
   ]
  },
  {
   "cell_type": "markdown",
   "metadata": {},
   "source": [
    "(a) What are $M^T M$ and $MM^T$?"
   ]
  },
  {
   "cell_type": "code",
   "execution_count": 4,
   "metadata": {
    "collapsed": false
   },
   "outputs": [
    {
     "data": {
      "text/latex": [
       "$$\\left[\\begin{matrix}30 & 100\\\\100 & 354\\end{matrix}\\right]$$"
      ],
      "text/plain": [
       "⎡30   100⎤\n",
       "⎢        ⎥\n",
       "⎣100  354⎦"
      ]
     },
     "execution_count": 4,
     "metadata": {},
     "output_type": "execute_result"
    }
   ],
   "source": [
    "MTM = M.transpose()*M\n",
    "MTM"
   ]
  },
  {
   "cell_type": "code",
   "execution_count": 5,
   "metadata": {
    "collapsed": false
   },
   "outputs": [
    {
     "data": {
      "text/latex": [
       "$$\\left[\\begin{matrix}2 & 6 & 12 & 20\\\\6 & 20 & 42 & 72\\\\12 & 42 & 90 & 156\\\\20 & 72 & 156 & 272\\end{matrix}\\right]$$"
      ],
      "text/plain": [
       "⎡2   6   12   20 ⎤\n",
       "⎢                ⎥\n",
       "⎢6   20  42   72 ⎥\n",
       "⎢                ⎥\n",
       "⎢12  42  90   156⎥\n",
       "⎢                ⎥\n",
       "⎣20  72  156  272⎦"
      ]
     },
     "execution_count": 5,
     "metadata": {},
     "output_type": "execute_result"
    }
   ],
   "source": [
    "MMT = M*M.transpose()\n",
    "MMT"
   ]
  },
  {
   "cell_type": "markdown",
   "metadata": {},
   "source": [
    "(b) Compute the eigenpairs for $M^T M$"
   ]
  },
  {
   "cell_type": "code",
   "execution_count": 6,
   "metadata": {
    "collapsed": false
   },
   "outputs": [],
   "source": [
    "x, y = sy.symbols('x,y', real=True)\n",
    "l = sy.Symbol('lambda', real=True)\n",
    "e = Matrix([x,y])"
   ]
  },
  {
   "cell_type": "code",
   "execution_count": 7,
   "metadata": {
    "collapsed": false
   },
   "outputs": [
    {
     "data": {
      "text/latex": [
       "$$\\left [ 2 \\sqrt{9061} + 192, \\quad - 2 \\sqrt{9061} + 192\\right ]$$"
      ],
      "text/plain": [
       "⎡    ______              ______      ⎤\n",
       "⎣2⋅╲╱ 9061  + 192, - 2⋅╲╱ 9061  + 192⎦"
      ]
     },
     "execution_count": 7,
     "metadata": {},
     "output_type": "execute_result"
    }
   ],
   "source": [
    "eigenvalues = sy.solve((MTM - l*eye(2)).det(), l)\n",
    "eigenvalues.sort(reverse=True)\n",
    "eigenvalues"
   ]
  },
  {
   "cell_type": "markdown",
   "metadata": {},
   "source": [
    "Starting with the biggest eigenvalue, let's find the corresponding eigenvector"
   ]
  },
  {
   "cell_type": "code",
   "execution_count": 8,
   "metadata": {
    "collapsed": false
   },
   "outputs": [
    {
     "name": "stdout",
     "output_type": "stream",
     "text": [
      "Eigenvalue 0: 2*sqrt(9061) + 192\n",
      "\tLinear equation system: {x: -81*y/50 + sqrt(9061)*y/50}\n",
      "\t\tFree symbol(s) of x: {y}\n",
      "Eigenvalue 1: -2*sqrt(9061) + 192\n",
      "\tLinear equation system: {x: -81*y/50 + sqrt(9061)*y/50}\n",
      "\t\tFree symbol(s) of x: {y}\n"
     ]
    }
   ],
   "source": [
    "for i, eigenvalue in enumerate(eigenvalues):\n",
    "    print('Eigenvalue {}: {}'.format(i, eigenvalue))\n",
    "    values = sy.solve((MTM - eigenvalues[0]*eye(2))*e, [x,y])\n",
    "    print(\"\\tLinear equation system: {}\".format(values))\n",
    "    for symbol, val in values.items():\n",
    "        print(\"\\t\\tFree symbol(s) of {}: {}\".format(symbol, val.free_symbols))"
   ]
  },
  {
   "cell_type": "markdown",
   "metadata": {},
   "source": [
    "In both cases $y$ is a free parameter. Let's set them to 1"
   ]
  },
  {
   "cell_type": "code",
   "execution_count": 9,
   "metadata": {
    "collapsed": false
   },
   "outputs": [],
   "source": [
    "e21 = 1\n",
    "e22 = 1"
   ]
  },
  {
   "cell_type": "code",
   "execution_count": 10,
   "metadata": {
    "collapsed": false
   },
   "outputs": [],
   "source": [
    "e1 = Matrix([sy.solve((MTM - eigenvalues[0]*eye(2))*e, [x,y])[x].subs(y, 1).evalf(), 1])\n",
    "e2 = Matrix([sy.solve((MTM - eigenvalues[1]*eye(2))*e, [x,y])[x].subs(y, 1).evalf(), 1])"
   ]
  },
  {
   "cell_type": "code",
   "execution_count": 11,
   "metadata": {
    "collapsed": false
   },
   "outputs": [],
   "source": [
    "e1 = e1/e1.norm(2)\n",
    "e2 = e2/e2.norm(2)"
   ]
  },
  {
   "cell_type": "code",
   "execution_count": 12,
   "metadata": {
    "collapsed": false
   },
   "outputs": [],
   "source": [
    "MTM_e2 = MTM.eigenvects()[0][2][0].evalf() # Here I took a look a saw that the biggest one was listed last\n",
    "MTM_e2 = MTM_e2/MTM_e2.norm(2)\n",
    "MTM_e1 = MTM.eigenvects()[1][2][0].evalf() # Here I took a look a saw that the biggest one was listed first\n",
    "MTM_e1 = MTM_e1/MTM_e1.norm(2)"
   ]
  },
  {
   "cell_type": "code",
   "execution_count": 13,
   "metadata": {
    "collapsed": false
   },
   "outputs": [
    {
     "data": {
      "text/plain": [
       "True"
      ]
     },
     "execution_count": 13,
     "metadata": {},
     "output_type": "execute_result"
    }
   ],
   "source": [
    "e1 == MTM_e1 # We're finding the same solution as sympy"
   ]
  },
  {
   "cell_type": "code",
   "execution_count": 14,
   "metadata": {
    "collapsed": false
   },
   "outputs": [
    {
     "data": {
      "text/plain": [
       "True"
      ]
     },
     "execution_count": 14,
     "metadata": {},
     "output_type": "execute_result"
    }
   ],
   "source": [
    "e2 == MTM_e2"
   ]
  },
  {
   "cell_type": "markdown",
   "metadata": {},
   "source": [
    "**(c)** What do you expect to be the eigenvalues of $MM^T$?"
   ]
  },
  {
   "cell_type": "markdown",
   "metadata": {},
   "source": [
    "The eigenvalues do not change wether they are for $MM^T$ or $M^T M$"
   ]
  },
  {
   "cell_type": "markdown",
   "metadata": {},
   "source": [
    "**(d)** Find the eigenvectors of $MM^T$, using your eigenvalues from part (c)"
   ]
  },
  {
   "cell_type": "markdown",
   "metadata": {},
   "source": [
    "$(ME)$ will be the eigenvectors of $MM^T$ where $E$ is the matrix of eigenvectors of $M^T M$"
   ]
  },
  {
   "cell_type": "code",
   "execution_count": 15,
   "metadata": {
    "collapsed": false
   },
   "outputs": [],
   "source": [
    "E = e1.row_join(e2)\n",
    "ME = M*E\n",
    "ME_e1 = ME.col(0)/ME.col(0).norm(2)\n",
    "ME_e2 = ME.col(1)/ME.col(1).norm(2)"
   ]
  },
  {
   "cell_type": "code",
   "execution_count": 16,
   "metadata": {
    "collapsed": false
   },
   "outputs": [],
   "source": [
    "# Let's just make sure\n",
    "MMT_e = MMT.eigenvects()"
   ]
  },
  {
   "cell_type": "code",
   "execution_count": 17,
   "metadata": {
    "collapsed": false
   },
   "outputs": [],
   "source": [
    "MMT_e2 = MMT_e[1][2][0].evalf()\n",
    "MMT_e2 = MMT_e2/MMT_e2.norm(2)\n",
    "MMT_e1 = MMT_e[2][2][0].evalf()\n",
    "MMT_e1 = MMT_e1/MMT_e1.norm(2)"
   ]
  },
  {
   "cell_type": "code",
   "execution_count": 18,
   "metadata": {
    "collapsed": false
   },
   "outputs": [
    {
     "data": {
      "text/latex": [
       "$$\\left[\\begin{matrix}2.77555756156289 \\cdot 10^{-17}\\\\5.55111512312578 \\cdot 10^{-17}\\\\1.11022302462516 \\cdot 10^{-16}\\\\1.11022302462516 \\cdot 10^{-16}\\end{matrix}\\right]$$"
      ],
      "text/plain": [
       "⎡2.77555756156289e-17⎤\n",
       "⎢                    ⎥\n",
       "⎢5.55111512312578e-17⎥\n",
       "⎢                    ⎥\n",
       "⎢1.11022302462516e-16⎥\n",
       "⎢                    ⎥\n",
       "⎣1.11022302462516e-16⎦"
      ]
     },
     "execution_count": 18,
     "metadata": {},
     "output_type": "execute_result"
    }
   ],
   "source": [
    "MMT_e1 - ME_e1 # Close enough to zero"
   ]
  },
  {
   "cell_type": "code",
   "execution_count": 19,
   "metadata": {
    "collapsed": false
   },
   "outputs": [
    {
     "data": {
      "text/latex": [
       "$$\\left[\\begin{matrix}0\\\\0\\\\1.11022302462516 \\cdot 10^{-16}\\\\0\\end{matrix}\\right]$$"
      ],
      "text/plain": [
       "⎡         0          ⎤\n",
       "⎢                    ⎥\n",
       "⎢         0          ⎥\n",
       "⎢                    ⎥\n",
       "⎢1.11022302462516e-16⎥\n",
       "⎢                    ⎥\n",
       "⎣         0          ⎦"
      ]
     },
     "execution_count": 19,
     "metadata": {},
     "output_type": "execute_result"
    }
   ],
   "source": [
    "MMT_e2 - ME_e2 # Close enough to zero"
   ]
  },
  {
   "cell_type": "markdown",
   "metadata": {},
   "source": [
    "**Exercise 11.2.2**: Prove that if M is any matrix, then $M^T M$ and $MM^T$ are\n",
    "symmetric."
   ]
  },
  {
   "cell_type": "markdown",
   "metadata": {},
   "source": [
    "Blah blah blah. Demo."
   ]
  },
  {
   "cell_type": "code",
   "execution_count": 20,
   "metadata": {
    "collapsed": false
   },
   "outputs": [
    {
     "data": {
      "text/latex": [
       "$$\\left[\\begin{matrix}a_{11} & a_{21} & a_{31}\\\\a_{12} & a_{22} & a_{32}\\end{matrix}\\right]$$"
      ],
      "text/plain": [
       "⎡a₁₁  a₂₁  a₃₁⎤\n",
       "⎢             ⎥\n",
       "⎣a₁₂  a₂₂  a₃₂⎦"
      ]
     },
     "execution_count": 20,
     "metadata": {},
     "output_type": "execute_result"
    }
   ],
   "source": [
    "a11, a12, a21, a22, a31, a32 = sy.symbols('a11, a12, a21, a22, a31, a32')\n",
    "M = Matrix([[a11, a21, a31], [a12, a22, a32]])\n",
    "M"
   ]
  },
  {
   "cell_type": "code",
   "execution_count": 21,
   "metadata": {
    "collapsed": false
   },
   "outputs": [
    {
     "data": {
      "text/latex": [
       "$$\\left[\\begin{matrix}a_{11}^{2} + a_{12}^{2} & a_{11} a_{21} + a_{12} a_{22} & a_{11} a_{31} + a_{12} a_{32}\\\\a_{11} a_{21} + a_{12} a_{22} & a_{21}^{2} + a_{22}^{2} & a_{21} a_{31} + a_{22} a_{32}\\\\a_{11} a_{31} + a_{12} a_{32} & a_{21} a_{31} + a_{22} a_{32} & a_{31}^{2} + a_{32}^{2}\\end{matrix}\\right]$$"
      ],
      "text/plain": [
       "⎡      2      2                                         ⎤\n",
       "⎢   a₁₁  + a₁₂      a₁₁⋅a₂₁ + a₁₂⋅a₂₂  a₁₁⋅a₃₁ + a₁₂⋅a₃₂⎥\n",
       "⎢                                                       ⎥\n",
       "⎢                         2      2                      ⎥\n",
       "⎢a₁₁⋅a₂₁ + a₁₂⋅a₂₂     a₂₁  + a₂₂      a₂₁⋅a₃₁ + a₂₂⋅a₃₂⎥\n",
       "⎢                                                       ⎥\n",
       "⎢                                            2      2   ⎥\n",
       "⎣a₁₁⋅a₃₁ + a₁₂⋅a₃₂  a₂₁⋅a₃₁ + a₂₂⋅a₃₂     a₃₁  + a₃₂    ⎦"
      ]
     },
     "execution_count": 21,
     "metadata": {},
     "output_type": "execute_result"
    }
   ],
   "source": [
    "M.transpose()*M"
   ]
  },
  {
   "cell_type": "code",
   "execution_count": 22,
   "metadata": {
    "collapsed": false
   },
   "outputs": [
    {
     "data": {
      "text/latex": [
       "$$\\left[\\begin{matrix}a_{11}^{2} + a_{21}^{2} + a_{31}^{2} & a_{11} a_{12} + a_{21} a_{22} + a_{31} a_{32}\\\\a_{11} a_{12} + a_{21} a_{22} + a_{31} a_{32} & a_{12}^{2} + a_{22}^{2} + a_{32}^{2}\\end{matrix}\\right]$$"
      ],
      "text/plain": [
       "⎡       2      2      2                                  ⎤\n",
       "⎢    a₁₁  + a₂₁  + a₃₁        a₁₁⋅a₁₂ + a₂₁⋅a₂₂ + a₃₁⋅a₃₂⎥\n",
       "⎢                                                        ⎥\n",
       "⎢                                    2      2      2     ⎥\n",
       "⎣a₁₁⋅a₁₂ + a₂₁⋅a₂₂ + a₃₁⋅a₃₂      a₁₂  + a₂₂  + a₃₂      ⎦"
      ]
     },
     "execution_count": 22,
     "metadata": {},
     "output_type": "execute_result"
    }
   ],
   "source": [
    "M*M.transpose()"
   ]
  },
  {
   "cell_type": "markdown",
   "metadata": {},
   "source": [
    "$m_{ij} = m_{ji}$ because the rows become the columns and the columns, the rows."
   ]
  },
  {
   "cell_type": "code",
   "execution_count": null,
   "metadata": {
    "collapsed": false
   },
   "outputs": [],
   "source": []
  }
 ],
 "metadata": {
  "kernelspec": {
   "display_name": "Python 3",
   "language": "python",
   "name": "python3"
  },
  "language_info": {
   "codemirror_mode": {
    "name": "ipython",
    "version": 3
   },
   "file_extension": ".py",
   "mimetype": "text/x-python",
   "name": "python",
   "nbconvert_exporter": "python",
   "pygments_lexer": "ipython3",
   "version": "3.4.3"
  }
 },
 "nbformat": 4,
 "nbformat_minor": 0
}
